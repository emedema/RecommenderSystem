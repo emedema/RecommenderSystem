{
 "cells": [
  {
   "cell_type": "code",
   "execution_count": 1,
   "metadata": {},
   "outputs": [],
   "source": [
    "import pandas as pd\n",
    "import numpy as np"
   ]
  },
  {
   "cell_type": "code",
   "execution_count": 4,
   "metadata": {},
   "outputs": [
    {
     "name": "stdout",
     "output_type": "stream",
     "text": [
      "                     Movie Title  Movie ID\n",
      "0                  Black Panther         1\n",
      "1  Once upon a time in Hollywood         2\n",
      "2                      The Tribe         3\n",
      "   User ID  Movie 1  Movie 2  Movie 3  Movie 4  Movie 5  Movie 6  Movie 7  \\\n",
      "0     6925       12       95        3      115      120       73        5   \n",
      "1     8297       91      119       10       55      114       73       63   \n",
      "2     5419      100       40      123       33        3       42      132   \n",
      "\n",
      "   Movie 8  Movie 9  Movie 10  \n",
      "0       19       83       126  \n",
      "1       81       55        36  \n",
      "2      119       10        34  \n",
      "   User ID  Movie 1  Movie 2  Movie 3  Movie 4  Movie 5  Movie 6  Movie 7  \\\n",
      "0     6925       12       95        3      115      120       73        5   \n",
      "\n",
      "   Movie 8  Movie 9  Movie 10  \n",
      "0       19       83       126  \n"
     ]
    }
   ],
   "source": [
    "movies = pd.read_csv('movies.csv')\n",
    "print(movies.head(3))\n",
    "df = pd.read_csv('users.csv')\n",
    "print(df.head(3))"
   ]
  },
  {
   "cell_type": "markdown",
   "metadata": {},
   "source": [
    "Okay so as you can see, in movies we have the movie title and the movie id. In the users csv we have a list of users and their top 10 favourite movies. Through this we can use collaborative filtering to recommend a movie to a given user, based on their similarity to other users top 10 lists!"
   ]
  },
  {
   "cell_type": "code",
   "execution_count": 3,
   "metadata": {},
   "outputs": [],
   "source": [
    "#to figure out similarity we will be counting inversions via this method:\n",
    "def compareInv(A,B):\n",
    "    numInv = 0\n",
    "    for i in range(0, len(A)-1):\n",
    "        for j in range(i+1, len(A)):\n",
    "            if A[i] > B[j]:\n",
    "                numInv = numInv + 1\n",
    "    return numInv"
   ]
  },
  {
   "cell_type": "code",
   "execution_count": 59,
   "metadata": {},
   "outputs": [
    {
     "name": "stdout",
     "output_type": "stream",
     "text": [
      "[12, 95, 3, 115, 120, 73, 5, 19, 83, 126]\n"
     ]
    }
   ],
   "source": [
    "#let's take our first user as the given user\n",
    "#Now lets calculate their similarity to the other users in our data\n",
    "simArray = pd.DataFrame(columns = [\"Sim\", \"User\"])\n",
    "user_array = []\n",
    "user_array.append(df['Movie 1'][0])\n",
    "user_array.append(df['Movie 2'][0])\n",
    "user_array.append(df['Movie 3'][0])\n",
    "user_array.append(df['Movie 4'][0])\n",
    "user_array.append(df['Movie 5'][0])\n",
    "user_array.append(df['Movie 6'][0])\n",
    "user_array.append(df['Movie 7'][0])\n",
    "user_array.append(df['Movie 8'][0])\n",
    "user_array.append(df['Movie 9'][0])\n",
    "user_array.append(df['Movie 10'][0])\n",
    "print(user_array)\n",
    "\n",
    "for i in df.index: \n",
    "    if(i != 0):\n",
    "        a = []\n",
    "        sim = 0\n",
    "        a.append(df['Movie 1'][i])\n",
    "        a.append(df['Movie 2'][i])\n",
    "        a.append(df['Movie 3'][i])\n",
    "        a.append(df['Movie 4'][i])\n",
    "        a.append(df['Movie 5'][i])\n",
    "        a.append(df['Movie 6'][i])\n",
    "        a.append(df['Movie 7'][i])\n",
    "        a.append(df['Movie 8'][i])\n",
    "        a.append(df['Movie 9'][i])\n",
    "        a.append(df['Movie 10'][i])\n",
    "        sim = compareInv(user_array, a)\n",
    "        simArray = simArray.append({\"Sim\":sim, \"User\":df[\"User ID\"][i]}, ignore_index = True)\n"
   ]
  },
  {
   "cell_type": "code",
   "execution_count": 52,
   "metadata": {},
   "outputs": [
    {
     "name": "stdout",
     "output_type": "stream",
     "text": [
      "   Sim  User\n",
      "0   23  8297\n",
      "1   19  5419\n",
      "2   16  3115\n",
      "3   22  4913\n",
      "4   14  8116\n",
      "5   20  2784\n",
      "6   19  3084\n",
      "7    6  7084\n",
      "8   24  2812\n",
      "9   24   991\n",
      "10  22  9723\n",
      "11  20  6946\n",
      "12  20  1001\n",
      "13  23  1515\n",
      "14  14  2186\n",
      "15  25  7140\n",
      "16  19  9422\n",
      "17  20   150\n"
     ]
    }
   ],
   "source": [
    "print(simArray)"
   ]
  },
  {
   "cell_type": "code",
   "execution_count": 98,
   "metadata": {},
   "outputs": [
    {
     "name": "stdout",
     "output_type": "stream",
     "text": [
      "   Sim  User\n",
      "7    6  7084\n",
      "4   14  8116\n",
      "14  14  2186\n",
      "2   16  3115\n",
      "1   19  5419\n",
      "6   19  3084\n",
      "16  19  9422\n",
      "17  20   150\n",
      "5   20  2784\n",
      "11  20  6946\n",
      "12  20  1001\n",
      "3   22  4913\n",
      "10  22  9723\n",
      "0   23  8297\n",
      "13  23  1515\n",
      "9   24   991\n",
      "8   24  2812\n",
      "15  25  7140\n",
      "[]\n"
     ]
    }
   ],
   "source": [
    "#now we have the similarity of every user except the given user\n",
    "#Lets sort by the highest similarity\n",
    "#we want to sort ascending as the higher the sim number the more differences there are in their ranking\n",
    "#therefore they are less similar.\n",
    "S = simArray.sort_values(by='Sim', ascending=True)\n",
    "print(S)\n",
    "#according to this user 7140 has the highest similarity index\n",
    "#but to make sure we have enough data we will take the first w of the highest users\n",
    "list_items = []\n",
    "for i in S.index:\n",
    "    user = S[\"User\"][i]\n",
    "    user_items = df.loc[df['User ID'] == user]\n",
    "    items = user_items.loc[:, user_items.columns != 'User ID']\n",
    "\n",
    "print(list_items)"
   ]
  }
 ],
 "metadata": {
  "kernelspec": {
   "display_name": "Python 3",
   "language": "python",
   "name": "python3"
  },
  "language_info": {
   "codemirror_mode": {
    "name": "ipython",
    "version": 3
   },
   "file_extension": ".py",
   "mimetype": "text/x-python",
   "name": "python",
   "nbconvert_exporter": "python",
   "pygments_lexer": "ipython3",
   "version": "3.7.4"
  }
 },
 "nbformat": 4,
 "nbformat_minor": 2
}
