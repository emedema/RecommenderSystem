{
 "cells": [
  {
   "cell_type": "code",
   "execution_count": 1,
   "metadata": {},
   "outputs": [],
   "source": [
    "import pandas as pd\n",
    "import numpy as np"
   ]
  },
  {
   "cell_type": "code",
   "execution_count": 4,
   "metadata": {},
   "outputs": [
    {
     "name": "stdout",
     "output_type": "stream",
     "text": [
      "                     Movie Title  Movie ID\n",
      "0                  Black Panther         1\n",
      "1  Once upon a time in Hollywood         2\n",
      "2                      The Tribe         3\n"
     ]
    }
   ],
   "source": [
    "movies = pd.read_csv('../data/movies.csv')\n",
    "print(movies.head(3))"
   ]
  },
  {
   "cell_type": "code",
   "execution_count": 5,
   "metadata": {},
   "outputs": [
    {
     "name": "stdout",
     "output_type": "stream",
     "text": [
      "         Movie 1  Movie 2  Movie 3  Movie 4  Movie 5  Movie 6  Movie 7  \\\n",
      "User ID                                                                  \n",
      "6925          12       95        3      115      120       73        5   \n",
      "8297          91      119       10       55      114       73       63   \n",
      "5419         100       40      123       33        3       42      132   \n",
      "\n",
      "         Movie 8  Movie 9  Movie 10  \n",
      "User ID                              \n",
      "6925          19       83       126  \n",
      "8297          81       55        36  \n",
      "5419         119       10        34  \n"
     ]
    }
   ],
   "source": [
    "df_likes = pd.read_csv('../data/users_likes.csv', index_col=\"User ID\")\n",
    "print(df_likes.head(3))"
   ]
  },
  {
   "cell_type": "code",
   "execution_count": 10,
   "metadata": {},
   "outputs": [
    {
     "name": "stdout",
     "output_type": "stream",
     "text": [
      "         Movie 1  Movie 2  Movie 3  Movie 4  Movie 5  Movie 6  Movie 7  \\\n",
      "User ID                                                                  \n",
      "6925          29      105       17       14       44       50       90   \n",
      "8297          29       90        2       34       44       87       76   \n",
      "5419          30       43       82      121      123       51        7   \n",
      "\n",
      "         Movie 8  Movie 9  Movie 10  \n",
      "User ID                              \n",
      "6925          28       88         2  \n",
      "8297          11      113        31  \n",
      "5419         120      105         5  \n"
     ]
    }
   ],
   "source": [
    "df_not = pd.read_csv('../data/users_dislikes.csv', index_col = \"User ID\")\n",
    "print(df_not.head(3))"
   ]
  },
  {
   "cell_type": "raw",
   "metadata": {},
   "source": [
    "Since the dataframe uses the user id as a key, it acts more similarly to a dictionary of lists, where each userid has a vector of ratings for each movie"
   ]
  },
  {
   "cell_type": "code",
   "execution_count": 21,
   "metadata": {},
   "outputs": [],
   "source": [
    "#s(u1, u2) = (|L1 intersection L2| + |D1 intersection D2| - \n",
    "#|L1 intersection D2| - |L2 intersection D1|)/|L1 union L2 union D1 union D2|\n",
    "#L represents the set of likes, D is the set of dislikes\n",
    "def sim(L1, L2, D1, D2):\n",
    "    num = 0;\n",
    "    initial = len((L1.intersection(L2))) + len((D1.intersection(D2))) - len((L1.intersection(D2))) - len((L2.intersection(D1)))\n",
    "    divisor = len((L1.union(L2, D1, D2)))\n",
    "    num = initial/divisor\n",
    "    return num"
   ]
  },
  {
   "cell_type": "code",
   "execution_count": 26,
   "metadata": {},
   "outputs": [
    {
     "name": "stdout",
     "output_type": "stream",
     "text": [
      "{3, 5, 73, 12, 115, 19, 83, 120, 126, 95}\n",
      "{2, 105, 44, 14, 17, 50, 88, 90, 28, 29}\n"
     ]
    }
   ],
   "source": [
    "#lets say that the given user is User ID 6925, lets put their likes and dislikes\n",
    "    #into sets and then we will compare their likes and dislikes with other users\n",
    "\n",
    "given_user_likes = set(df_likes.loc[6925])\n",
    "print(given_user_likes)\n",
    "given_user_dislikes = set(df_not.loc[6925])\n",
    "print(given_user_dislikes)\n",
    "\n",
    "\n",
    "#num = sim(given_user_likes, user_l, given_user_dislikes, user_d)\n",
    "#print(num)\n",
    "\n",
    "##initialize an empty series to save user similarity\n",
    "sim_series = pd.Series(0, index=df_likes.index)\n",
    "\n",
    "#iterate through all users\n",
    "for i in df_likes.index:\n",
    "    if(i != 0):\n",
    "        user_l = set(df_likes.loc[i])\n",
    "        user_d = set(df_not.loc[i])\n",
    "        num = sim(given_user_likes, user_l, given_user_dislikes, user_d)\n",
    "        sim_series.loc[i] = num"
   ]
  },
  {
   "cell_type": "code",
   "execution_count": 27,
   "metadata": {},
   "outputs": [
    {
     "data": {
      "text/plain": [
       "User ID\n",
       "6925    1.000000\n",
       "8297    0.147059\n",
       "5419    0.000000\n",
       "3115    0.000000\n",
       "4913    0.083333\n",
       "8116   -0.081081\n",
       "2784   -0.025641\n",
       "3084    0.000000\n",
       "7084    0.000000\n",
       "2812   -0.027027\n",
       "991     0.000000\n",
       "9723   -0.027778\n",
       "6946    0.000000\n",
       "1001   -0.027027\n",
       "1515   -0.029412\n",
       "2186   -0.055556\n",
       "7140    0.083333\n",
       "9422   -0.085714\n",
       "150    -0.054054\n",
       "dtype: float64"
      ]
     },
     "execution_count": 27,
     "metadata": {},
     "output_type": "execute_result"
    }
   ],
   "source": [
    "sim_series"
   ]
  },
  {
   "cell_type": "code",
   "execution_count": 29,
   "metadata": {},
   "outputs": [
    {
     "name": "stdout",
     "output_type": "stream",
     "text": [
      "User ID\n",
      "6925    1.000000\n",
      "8297    0.147059\n",
      "7140    0.083333\n",
      "4913    0.083333\n",
      "3084    0.000000\n",
      "5419    0.000000\n",
      "3115    0.000000\n",
      "6946    0.000000\n",
      "991     0.000000\n",
      "7084    0.000000\n",
      "2784   -0.025641\n",
      "2812   -0.027027\n",
      "1001   -0.027027\n",
      "9723   -0.027778\n",
      "1515   -0.029412\n",
      "150    -0.054054\n",
      "2186   -0.055556\n",
      "8116   -0.081081\n",
      "9422   -0.085714\n",
      "dtype: float64\n"
     ]
    }
   ],
   "source": [
    "#let's sort by most similar, the most similar is those closest to 1\n",
    "#as you can tell from the first user being 100% similar\n",
    "\n",
    "simSeries = sim_series.sort_values(ascending=False)\n",
    "print(simSeries)"
   ]
  },
  {
   "cell_type": "code",
   "execution_count": 31,
   "metadata": {},
   "outputs": [
    {
     "name": "stdout",
     "output_type": "stream",
     "text": [
      "[91, 119, 10, 55, 114, 63, 81, 36, 51, 60, 27, 100, 66, 108, 34, 37, 54, 45, 67, 7, 31, 8, 127, 136, 32, 40, 110, 132, 6, 94, 89, 48, 123, 33, 42, 82, 79, 35, 107, 77, 80, 64, 118, 99, 106, 109, 52, 65, 38, 121, 23, 125, 124, 69, 62, 103, 39, 26, 47, 85, 22, 25, 117, 61, 57, 4, 75, 130, 111, 16, 9, 131, 53, 30, 135, 21, 76, 58, 98, 86, 96, 13, 92, 68, 122, 41]\n"
     ]
    }
   ],
   "source": [
    "list_items = []\n",
    "for user_id in simSeries.index:\n",
    "    # get the items the user has reviewed\n",
    "    user_items = df_likes.loc[user_id]\n",
    "    for item in user_items:\n",
    "        if item not in list_items and item not in given_user_likes and item not in given_user_dislikes:\n",
    "            list_items.append(item)\n",
    "\n",
    "print(list_items)"
   ]
  }
 ],
 "metadata": {
  "kernelspec": {
   "display_name": "Python 3",
   "language": "python",
   "name": "python3"
  },
  "language_info": {
   "codemirror_mode": {
    "name": "ipython",
    "version": 3
   },
   "file_extension": ".py",
   "mimetype": "text/x-python",
   "name": "python",
   "nbconvert_exporter": "python",
   "pygments_lexer": "ipython3",
   "version": "3.7.3"
  },
  "toc": {
   "base_numbering": 1,
   "nav_menu": {},
   "number_sections": true,
   "sideBar": true,
   "skip_h1_title": false,
   "title_cell": "Table of Contents",
   "title_sidebar": "Contents",
   "toc_cell": false,
   "toc_position": {},
   "toc_section_display": true,
   "toc_window_display": false
  }
 },
 "nbformat": 4,
 "nbformat_minor": 2
}
