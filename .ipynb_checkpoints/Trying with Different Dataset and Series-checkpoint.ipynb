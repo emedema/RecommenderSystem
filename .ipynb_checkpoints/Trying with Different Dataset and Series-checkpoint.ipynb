{
 "cells": [
  {
   "cell_type": "code",
<<<<<<< HEAD
   "execution_count": 1,
=======
   "execution_count": 12,
>>>>>>> e058c6b86743ac94e391b9bae3229195cb7a50d9
   "metadata": {
    "ExecuteTime": {
     "end_time": "2020-04-08T06:43:00.401116Z",
     "start_time": "2020-04-08T06:42:57.544724Z"
    }
   },
   "outputs": [],
   "source": [
    "import pandas as pd\n",
    "import numpy as np"
   ]
  },
  {
   "cell_type": "code",
<<<<<<< HEAD
   "execution_count": 2,
=======
   "execution_count": 13,
>>>>>>> e058c6b86743ac94e391b9bae3229195cb7a50d9
   "metadata": {
    "ExecuteTime": {
     "end_time": "2020-04-08T06:43:00.525437Z",
     "start_time": "2020-04-08T06:43:00.406861Z"
    }
   },
   "outputs": [
    {
     "name": "stdout",
     "output_type": "stream",
     "text": [
      "                     Movie Title  Movie ID\n",
      "0                  Black Panther         1\n",
      "1  Once upon a time in Hollywood         2\n",
      "2                      The Tribe         3\n"
     ]
    }
   ],
   "source": [
<<<<<<< HEAD
    "movies = pd.read_csv('data/movies.csv')\n",
=======
    "movies = pd.read_csv('movies.csv')\n",
>>>>>>> e058c6b86743ac94e391b9bae3229195cb7a50d9
    "print(movies.head(3))"
   ]
  },
  {
   "cell_type": "code",
<<<<<<< HEAD
   "execution_count": 5,
=======
   "execution_count": 14,
>>>>>>> e058c6b86743ac94e391b9bae3229195cb7a50d9
   "metadata": {
    "ExecuteTime": {
     "end_time": "2020-04-08T06:43:25.088562Z",
     "start_time": "2020-04-08T06:43:25.063684Z"
    }
   },
   "outputs": [
    {
     "name": "stdout",
     "output_type": "stream",
     "text": [
      "         Movie 1  Movie 2  Movie 3  Movie 4  Movie 5  Movie 6  Movie 7  \\\n",
      "User ID                                                                  \n",
      "6925          12       95        3      115      120       73        5   \n",
      "8297          91      119       10       55      114       73       63   \n",
      "5419         100       40      123       33        3       42      132   \n",
      "\n",
      "         Movie 8  Movie 9  Movie 10  \n",
      "User ID                              \n",
      "6925          19       83       126  \n",
      "8297          81       55        36  \n",
      "5419         119       10        34  \n"
     ]
    }
   ],
   "source": [
<<<<<<< HEAD
    "df = pd.read_csv('data/users.csv', index_col=\"User ID\")\n",
=======
    "df = pd.read_csv('users.csv', index_col=\"User ID\")\n",
>>>>>>> e058c6b86743ac94e391b9bae3229195cb7a50d9
    "print(df.head(3))"
   ]
  },
  {
   "cell_type": "raw",
   "metadata": {},
   "source": [
    "Since the dataframe uses the user id as a key, it acts more similarly to a dictionary of lists, where each userid has a vector of ratings for each movie"
   ]
  },
  {
   "cell_type": "markdown",
   "metadata": {},
   "source": [
    "Okay so as you can see, in movies we have the movie title and the movie id. In the users csv we have a list of users and their top 10 favourite movies. Through this we can use collaborative filtering to recommend a movie to a given user, based on their similarity to other users top 10 lists!"
   ]
  },
  {
   "cell_type": "code",
<<<<<<< HEAD
   "execution_count": 6,
=======
   "execution_count": 15,
>>>>>>> e058c6b86743ac94e391b9bae3229195cb7a50d9
   "metadata": {
    "ExecuteTime": {
     "end_time": "2020-04-08T06:47:51.342645Z",
     "start_time": "2020-04-08T06:47:51.333943Z"
    }
   },
   "outputs": [],
   "source": [
    "#to figure out similarity we will be counting inversions via this method:\n",
    "def compareInv(A,B):\n",
    "    numInv = 0\n",
    "    for i in range(0, len(A)-1):\n",
    "        for j in range(i+1, len(A)):\n",
    "            if A[i] > B[j]:\n",
    "                numInv = numInv + 1\n",
    "    return numInv"
   ]
  },
  {
   "cell_type": "code",
<<<<<<< HEAD
   "execution_count": 49,
   "metadata": {
    "ExecuteTime": {
     "end_time": "2020-04-08T08:04:01.894633Z",
     "start_time": "2020-04-08T08:04:01.845948Z"
=======
   "execution_count": 16,
   "metadata": {
    "ExecuteTime": {
     "end_time": "2020-04-08T06:50:57.684151Z",
     "start_time": "2020-04-08T06:50:57.458062Z"
>>>>>>> e058c6b86743ac94e391b9bae3229195cb7a50d9
    }
   },
   "outputs": [
    {
     "name": "stdout",
     "output_type": "stream",
     "text": [
      "[12, 95, 3, 115, 120, 73, 5, 19, 83, 126]\n"
     ]
    }
   ],
   "source": [
    "#let's take our first user as the given user\n",
    "#Now lets calculate their similarity to the other users in our data\n",
    "simArray = pd.DataFrame(columns = [\"Sim\", \"User\"])\n",
    "user_array = []\n",
    "user_array.append(df['Movie 1'][6925])\n",
    "user_array.append(df['Movie 2'][6925])\n",
    "user_array.append(df['Movie 3'][6925])\n",
    "user_array.append(df['Movie 4'][6925])\n",
    "user_array.append(df['Movie 5'][6925])\n",
    "user_array.append(df['Movie 6'][6925])\n",
    "user_array.append(df['Movie 7'][6925])\n",
    "user_array.append(df['Movie 8'][6925])\n",
    "user_array.append(df['Movie 9'][6925])\n",
    "user_array.append(df['Movie 10'][6925])\n",
<<<<<<< HEAD
    "print(user_array)"
   ]
  },
  {
   "cell_type": "code",
   "execution_count": 54,
   "metadata": {
    "ExecuteTime": {
     "end_time": "2020-04-08T08:05:32.550902Z",
     "start_time": "2020-04-08T08:05:32.543080Z"
    }
   },
   "outputs": [
    {
     "data": {
      "text/plain": [
       "[12, 95, 3, 115, 120, 73, 5, 19, 83, 126]"
      ]
     },
     "execution_count": 54,
     "metadata": {},
     "output_type": "execute_result"
    }
   ],
   "source": [
    "user_id = 6925\n",
    "df.loc[user_id].values.tolist()"
   ]
  },
  {
   "cell_type": "code",
   "execution_count": 55,
   "metadata": {
    "ExecuteTime": {
     "end_time": "2020-04-08T08:07:17.748523Z",
     "start_time": "2020-04-08T08:07:17.683603Z"
    }
   },
   "outputs": [],
   "source": [
=======
    "print(user_array)\n",
    "\n",
>>>>>>> e058c6b86743ac94e391b9bae3229195cb7a50d9
    "simSeries = pd.Series(0, index=df.index)\n",
    "for i in df.index: \n",
    "    if(i != 0):\n",
    "        a = []\n",
    "        sim = 0\n",
    "        a.append(df['Movie 1'][i])\n",
    "        a.append(df['Movie 2'][i])\n",
    "        a.append(df['Movie 3'][i])\n",
    "        a.append(df['Movie 4'][i])\n",
    "        a.append(df['Movie 5'][i])\n",
    "        a.append(df['Movie 6'][i])\n",
    "        a.append(df['Movie 7'][i])\n",
    "        a.append(df['Movie 8'][i])\n",
    "        a.append(df['Movie 9'][i])\n",
    "        a.append(df['Movie 10'][i])\n",
    "        sim = compareInv(user_array, a)\n",
    "        simArray = simArray.append({\"Sim\":sim, \"User\":i}, ignore_index = True)\n",
<<<<<<< HEAD
    "        simSeries.loc[i] = sim"
=======
    "        simSeries.loc[i] = sim\n"
>>>>>>> e058c6b86743ac94e391b9bae3229195cb7a50d9
   ]
  },
  {
   "cell_type": "code",
<<<<<<< HEAD
   "execution_count": null,
   "metadata": {},
   "outputs": [],
   "source": [
    "simSeries = pd.Series(0, index=df.index)\n",
    "for i in df.index: \n",
    "    if(i != 0):\n",
    "        a=df.loc[user_id].values.tolist()\n",
    "        sim = 0\n",
    "        sim = compareInv(user_array, a)\n",
    "        simSeries.loc[i] = sim"
   ]
  },
  {
   "cell_type": "code",
   "execution_count": 13,
=======
   "execution_count": 17,
>>>>>>> e058c6b86743ac94e391b9bae3229195cb7a50d9
   "metadata": {
    "ExecuteTime": {
     "end_time": "2020-04-08T06:50:59.263244Z",
     "start_time": "2020-04-08T06:50:59.254183Z"
    }
   },
   "outputs": [
    {
     "name": "stdout",
     "output_type": "stream",
     "text": [
      "   Sim  User\n",
      "0   17  6925\n",
      "1   23  8297\n",
      "2   19  5419\n",
      "3   16  3115\n",
      "4   22  4913\n",
      "5   14  8116\n",
      "6   20  2784\n",
      "7   19  3084\n",
      "8    6  7084\n",
      "9   24  2812\n",
      "10  24   991\n",
      "11  22  9723\n",
      "12  20  6946\n",
      "13  20  1001\n",
      "14  23  1515\n",
      "15  14  2186\n",
      "16  25  7140\n",
      "17  19  9422\n",
      "18  20   150\n"
     ]
    }
   ],
   "source": [
    "print(simArray)"
   ]
  },
  {
   "cell_type": "code",
<<<<<<< HEAD
   "execution_count": 15,
=======
   "execution_count": 18,
>>>>>>> e058c6b86743ac94e391b9bae3229195cb7a50d9
   "metadata": {
    "ExecuteTime": {
     "end_time": "2020-04-08T06:53:44.271454Z",
     "start_time": "2020-04-08T06:53:44.259815Z"
    }
   },
   "outputs": [
    {
     "data": {
      "text/plain": [
       "User ID\n",
       "6925    17\n",
       "8297    23\n",
       "5419    19\n",
       "3115    16\n",
       "4913    22\n",
       "8116    14\n",
       "2784    20\n",
       "3084    19\n",
       "7084     6\n",
       "2812    24\n",
       "991     24\n",
       "9723    22\n",
       "6946    20\n",
       "1001    20\n",
       "1515    23\n",
       "2186    14\n",
       "7140    25\n",
       "9422    19\n",
       "150     20\n",
       "dtype: int64"
      ]
     },
<<<<<<< HEAD
     "execution_count": 15,
=======
     "execution_count": 18,
>>>>>>> e058c6b86743ac94e391b9bae3229195cb7a50d9
     "metadata": {},
     "output_type": "execute_result"
    }
   ],
   "source": [
    "# user id acts as a hashtable for similarity\n",
    "simSeries"
   ]
  },
  {
   "cell_type": "code",
<<<<<<< HEAD
   "execution_count": 16,
=======
   "execution_count": 19,
>>>>>>> e058c6b86743ac94e391b9bae3229195cb7a50d9
   "metadata": {
    "ExecuteTime": {
     "end_time": "2020-04-08T06:54:33.073240Z",
     "start_time": "2020-04-08T06:54:33.056962Z"
    }
   },
   "outputs": [
    {
     "name": "stdout",
     "output_type": "stream",
     "text": [
      "   Sim  User\n",
      "8    6  7084\n",
      "15  14  2186\n",
      "5   14  8116\n",
      "3   16  3115\n",
      "0   17  6925\n",
      "2   19  5419\n",
      "7   19  3084\n",
      "17  19  9422\n",
      "13  20  1001\n",
      "12  20  6946\n",
      "18  20   150\n",
      "6   20  2784\n",
      "11  22  9723\n",
      "4   22  4913\n",
      "14  23  1515\n",
      "1   23  8297\n",
      "10  24   991\n",
      "9   24  2812\n",
      "16  25  7140\n"
     ]
    }
   ],
   "source": [
    "#now we have the similarity of every user except the given user\n",
    "#Lets sort by the highest similarity\n",
    "#we want to sort ascending as the higher the sim number the more differences there are in their ranking\n",
    "#therefore they are less similar.\n",
    "S = simArray.sort_values(by='Sim', ascending=True)\n",
    "print(S)"
   ]
  },
  {
   "cell_type": "code",
<<<<<<< HEAD
   "execution_count": 26,
=======
   "execution_count": 20,
>>>>>>> e058c6b86743ac94e391b9bae3229195cb7a50d9
   "metadata": {
    "ExecuteTime": {
     "end_time": "2020-04-08T07:04:47.061613Z",
     "start_time": "2020-04-08T07:04:47.051217Z"
    }
   },
   "outputs": [
    {
     "name": "stdout",
     "output_type": "stream",
     "text": [
      "User ID\n",
      "7084     6\n",
<<<<<<< HEAD
      "8116    14\n",
      "2186    14\n",
=======
      "2186    14\n",
      "8116    14\n",
>>>>>>> e058c6b86743ac94e391b9bae3229195cb7a50d9
      "3115    16\n",
      "6925    17\n",
      "5419    19\n",
      "3084    19\n",
      "9422    19\n",
      "1001    20\n",
      "6946    20\n",
<<<<<<< HEAD
      "2784    20\n",
      "150     20\n",
=======
      "150     20\n",
      "2784    20\n",
>>>>>>> e058c6b86743ac94e391b9bae3229195cb7a50d9
      "9723    22\n",
      "4913    22\n",
      "1515    23\n",
      "8297    23\n",
      "991     24\n",
      "2812    24\n",
      "7140    25\n",
      "dtype: int64\n"
     ]
    }
   ],
   "source": [
    "# More similar = less inversions so lower similarity\n",
    "simSeries = simSeries.sort_values(ascending=True)\n",
    "print(simSeries)"
   ]
  },
  {
   "cell_type": "code",
<<<<<<< HEAD
   "execution_count": 98,
   "metadata": {
    "code_folding": [],
    "collapsed": true
   },
   "outputs": [
    {
     "name": "stdout",
     "output_type": "stream",
     "text": [
      "   Sim  User\n",
      "7    6  7084\n",
      "4   14  8116\n",
      "14  14  2186\n",
      "2   16  3115\n",
      "1   19  5419\n",
      "6   19  3084\n",
      "16  19  9422\n",
      "17  20   150\n",
      "5   20  2784\n",
      "11  20  6946\n",
      "12  20  1001\n",
      "3   22  4913\n",
      "10  22  9723\n",
      "0   23  8297\n",
      "13  23  1515\n",
      "9   24   991\n",
      "8   24  2812\n",
      "15  25  7140\n",
      "[]\n"
     ]
    }
   ],
   "source": [
    "#according to this user 7140 has the highest similarity index\n",
    "#but to make sure we have enough data we will take the first w of the highest users\n",
    "list_items = []\n",
    "for i in S.index:\n",
    "    user = S[\"User\"][i]\n",
    "    user_items = df.loc[df['User ID'] == user]\n",
    "    items = user_items.loc[:, user_items.columns != 'User ID']\n",
    "\n",
    "print(list_items)"
=======
   "execution_count": 21,
   "metadata": {
    "code_folding": []
   },
   "outputs": [],
   "source": [
    "# #according to this user 7140 has the highest similarity index\n",
    "# #but to make sure we have enough data we will take the first w of the highest users\n",
    "# list_items = []\n",
    "# for i in S.index:\n",
    "#     user = S[\"User\"][i]\n",
    "#     user_items = df.loc[df['User ID'] == user]\n",
    "#     items = user_items.loc[:, user_items.columns != 'User ID']\n",
    "\n",
    "# print(list_items)"
>>>>>>> e058c6b86743ac94e391b9bae3229195cb7a50d9
   ]
  },
  {
   "cell_type": "code",
   "execution_count": null,
   "metadata": {},
   "outputs": [],
   "source": []
  },
  {
   "cell_type": "code",
<<<<<<< HEAD
   "execution_count": 42,
=======
   "execution_count": 29,
>>>>>>> e058c6b86743ac94e391b9bae3229195cb7a50d9
   "metadata": {
    "ExecuteTime": {
     "end_time": "2020-04-08T07:17:00.694919Z",
     "start_time": "2020-04-08T07:17:00.674834Z"
    }
   },
   "outputs": [
    {
     "name": "stdout",
     "output_type": "stream",
     "text": [
<<<<<<< HEAD
      "[121, 23, 119, 51, 38, 136, 125, 94, 124, 13, 21, 100, 45, 34, 92, 76, 118, 77, 106, 5, 58, 109, 98, 86, 96, 82, 79, 66, 35, 107, 123, 89, 80, 12, 95, 3, 115, 120, 73, 19, 83, 126, 40, 33, 42, 132, 10, 91, 110, 6, 8, 127, 48, 44, 14, 68, 60, 55, 90, 122, 62, 41, 31, 7, 32, 22, 39, 25, 64, 54, 99, 28, 81, 69, 103, 67, 131, 53, 30, 135, 117, 61, 57, 4, 75, 130, 2, 111, 16, 9, 114, 63, 36, 52, 65, 27, 26, 47, 85, 108, 37]\n"
=======
      "[12, 95, 3, 115, 120, 73, 5, 19, 83, 126]\n",
      "[121, 23, 119, 51, 38, 136, 125, 94, 124, 77, 76, 106, 118, 58, 109, 98, 86, 96, 13, 21, 100, 45, 34, 92, 82, 79, 66, 35, 107, 123, 89, 80, 40, 33, 42, 132, 10, 91, 110, 6, 8, 127, 48, 44, 14, 68, 60, 55, 90, 122, 62, 41, 31, 7, 32, 22, 39, 25, 64, 54, 99, 28, 81, 131, 53, 30, 135, 69, 103, 67, 117, 61, 57, 4, 75, 130, 2, 111, 16, 9, 114, 63, 36, 52, 65, 27, 26, 47, 85, 108, 37]\n"
>>>>>>> e058c6b86743ac94e391b9bae3229195cb7a50d9
     ]
    }
   ],
   "source": [
    "#according to this user 7084 has the highest similarity index\n",
    "# because it has the lowest number of inversions\n",
    "#but to make sure we have enough data we will take the first w of the highest users\n",
    "\n",
    "# save as set -> dont check for duplicates\n",
    "list_items = []\n",
<<<<<<< HEAD
=======
    "print(user_array)\n",
>>>>>>> e058c6b86743ac94e391b9bae3229195cb7a50d9
    "for user_id in simSeries.index:\n",
    "    # get the items the user has reviewed\n",
    "    user_items = df.loc[user_id]\n",
    "    for item in user_items:\n",
<<<<<<< HEAD
    "        if item not in list_items:\n",
=======
    "        #print(item)\n",
    "        if item not in list_items and item not in user_array:\n",
>>>>>>> e058c6b86743ac94e391b9bae3229195cb7a50d9
    "            list_items.append(item)\n",
    "\n",
    "print(list_items)"
   ]
  },
  {
   "cell_type": "code",
<<<<<<< HEAD
   "execution_count": 39,
=======
   "execution_count": 43,
>>>>>>> e058c6b86743ac94e391b9bae3229195cb7a50d9
   "metadata": {
    "ExecuteTime": {
     "end_time": "2020-04-08T07:14:26.404751Z",
     "start_time": "2020-04-08T07:14:26.381476Z"
<<<<<<< HEAD
    }
   },
   "outputs": [],
   "source": [
    "matrix [n users X m items]\n"
   ]
  },
  {
   "cell_type": "code",
   "execution_count": 40,
   "metadata": {
    "ExecuteTime": {
     "end_time": "2020-04-08T07:14:28.802607Z",
     "start_time": "2020-04-08T07:14:28.794534Z"
    }
   },
   "outputs": [
    {
     "data": {
      "text/plain": [
       "Movie 1     121\n",
       "Movie 2      23\n",
       "Movie 3     119\n",
       "Movie 4      51\n",
       "Movie 5      38\n",
       "Movie 6     136\n",
       "Movie 7     125\n",
       "Movie 8      94\n",
       "Movie 9     125\n",
       "Movie 10    124\n",
       "Name: 7084, dtype: int64"
      ]
     },
     "execution_count": 40,
     "metadata": {},
     "output_type": "execute_result"
    }
   ],
   "source": [
    "user_item_series = df.loc[7084]\n",
    "user_item_series\n",
    "\n",
    "# "
=======
    },
    "scrolled": false
   },
   "outputs": [
    {
     "name": "stdout",
     "output_type": "stream",
     "text": [
      "11    First Reformed\n",
      "Name: Movie Title, dtype: object\n",
      "94    In Bruges\n",
      "Name: Movie Title, dtype: object\n",
      "2    The Tribe\n",
      "Name: Movie Title, dtype: object\n",
      "114    School of Rock\n",
      "Name: Movie Title, dtype: object\n",
      "119    Star Wars: Episode 4\n",
      "Name: Movie Title, dtype: object\n",
      "72    Moulin Rouge\n",
      "Name: Movie Title, dtype: object\n",
      "4    Personal Shopper\n",
      "Name: Movie Title, dtype: object\n",
      "18    No\n",
      "Name: Movie Title, dtype: object\n",
      "82    Bridget Jones's Diary\n",
      "Name: Movie Title, dtype: object\n",
      "125    The Dark Knight\n",
      "Name: Movie Title, dtype: object\n"
     ]
    }
   ],
   "source": [
    "# matrix [n users X m items]\n",
    "movies.loc[movies['Movie ID'] == 121, 'Movie Title']\n",
    "#movies[\"Movie Title\"][movies[\"Movie ID\"] == 121]\n",
    "for i in user_array:\n",
    "    print(movies.loc[movies['Movie ID'] == i, 'Movie Title'])"
>>>>>>> e058c6b86743ac94e391b9bae3229195cb7a50d9
   ]
  },
  {
   "cell_type": "code",
<<<<<<< HEAD
   "execution_count": 44,
   "metadata": {
    "ExecuteTime": {
     "end_time": "2020-04-08T07:30:14.724913Z",
     "start_time": "2020-04-08T07:30:14.583305Z"
=======
   "execution_count": 47,
   "metadata": {
    "ExecuteTime": {
     "end_time": "2020-04-08T07:14:26.404751Z",
     "start_time": "2020-04-08T07:14:26.381476Z"
>>>>>>> e058c6b86743ac94e391b9bae3229195cb7a50d9
    }
   },
   "outputs": [
    {
<<<<<<< HEAD
     "ename": "KeyError",
     "evalue": "False",
     "output_type": "error",
     "traceback": [
      "\u001b[0;31m---------------------------------------------------------------------------\u001b[0m",
      "\u001b[0;31mKeyError\u001b[0m                                  Traceback (most recent call last)",
      "\u001b[0;32m//anaconda3/lib/python3.7/site-packages/pandas/core/indexes/base.py\u001b[0m in \u001b[0;36mget_loc\u001b[0;34m(self, key, method, tolerance)\u001b[0m\n\u001b[1;32m   2656\u001b[0m             \u001b[0;32mtry\u001b[0m\u001b[0;34m:\u001b[0m\u001b[0;34m\u001b[0m\u001b[0;34m\u001b[0m\u001b[0m\n\u001b[0;32m-> 2657\u001b[0;31m                 \u001b[0;32mreturn\u001b[0m \u001b[0mself\u001b[0m\u001b[0;34m.\u001b[0m\u001b[0m_engine\u001b[0m\u001b[0;34m.\u001b[0m\u001b[0mget_loc\u001b[0m\u001b[0;34m(\u001b[0m\u001b[0mkey\u001b[0m\u001b[0;34m)\u001b[0m\u001b[0;34m\u001b[0m\u001b[0;34m\u001b[0m\u001b[0m\n\u001b[0m\u001b[1;32m   2658\u001b[0m             \u001b[0;32mexcept\u001b[0m \u001b[0mKeyError\u001b[0m\u001b[0;34m:\u001b[0m\u001b[0;34m\u001b[0m\u001b[0;34m\u001b[0m\u001b[0m\n",
      "\u001b[0;32mpandas/_libs/index.pyx\u001b[0m in \u001b[0;36mpandas._libs.index.IndexEngine.get_loc\u001b[0;34m()\u001b[0m\n",
      "\u001b[0;32mpandas/_libs/index.pyx\u001b[0m in \u001b[0;36mpandas._libs.index.IndexEngine.get_loc\u001b[0;34m()\u001b[0m\n",
      "\u001b[0;32mpandas/_libs/hashtable_class_helper.pxi\u001b[0m in \u001b[0;36mpandas._libs.hashtable.PyObjectHashTable.get_item\u001b[0;34m()\u001b[0m\n",
      "\u001b[0;32mpandas/_libs/hashtable_class_helper.pxi\u001b[0m in \u001b[0;36mpandas._libs.hashtable.PyObjectHashTable.get_item\u001b[0;34m()\u001b[0m\n",
      "\u001b[0;31mKeyError\u001b[0m: False",
      "\nDuring handling of the above exception, another exception occurred:\n",
      "\u001b[0;31mKeyError\u001b[0m                                  Traceback (most recent call last)",
      "\u001b[0;32m<ipython-input-44-06095c54aa3c>\u001b[0m in \u001b[0;36m<module>\u001b[0;34m\u001b[0m\n\u001b[0;32m----> 1\u001b[0;31m \u001b[0mmask\u001b[0m \u001b[0;34m=\u001b[0m \u001b[0mmovies\u001b[0m\u001b[0;34m[\u001b[0m\u001b[0;34m\"Movie ID\"\u001b[0m \u001b[0;34m==\u001b[0m \u001b[0;36m121\u001b[0m\u001b[0;34m]\u001b[0m\u001b[0;34m\u001b[0m\u001b[0;34m\u001b[0m\u001b[0m\n\u001b[0m\u001b[1;32m      2\u001b[0m \u001b[0mprint\u001b[0m\u001b[0;34m(\u001b[0m\u001b[0mmask\u001b[0m\u001b[0;34m)\u001b[0m\u001b[0;34m\u001b[0m\u001b[0;34m\u001b[0m\u001b[0m\n\u001b[1;32m      3\u001b[0m \u001b[0;31m# movies.loc[mask]\u001b[0m\u001b[0;34m\u001b[0m\u001b[0;34m\u001b[0m\u001b[0;34m\u001b[0m\u001b[0m\n",
      "\u001b[0;32m//anaconda3/lib/python3.7/site-packages/pandas/core/frame.py\u001b[0m in \u001b[0;36m__getitem__\u001b[0;34m(self, key)\u001b[0m\n\u001b[1;32m   2925\u001b[0m             \u001b[0;32mif\u001b[0m \u001b[0mself\u001b[0m\u001b[0;34m.\u001b[0m\u001b[0mcolumns\u001b[0m\u001b[0;34m.\u001b[0m\u001b[0mnlevels\u001b[0m \u001b[0;34m>\u001b[0m \u001b[0;36m1\u001b[0m\u001b[0;34m:\u001b[0m\u001b[0;34m\u001b[0m\u001b[0;34m\u001b[0m\u001b[0m\n\u001b[1;32m   2926\u001b[0m                 \u001b[0;32mreturn\u001b[0m \u001b[0mself\u001b[0m\u001b[0;34m.\u001b[0m\u001b[0m_getitem_multilevel\u001b[0m\u001b[0;34m(\u001b[0m\u001b[0mkey\u001b[0m\u001b[0;34m)\u001b[0m\u001b[0;34m\u001b[0m\u001b[0;34m\u001b[0m\u001b[0m\n\u001b[0;32m-> 2927\u001b[0;31m             \u001b[0mindexer\u001b[0m \u001b[0;34m=\u001b[0m \u001b[0mself\u001b[0m\u001b[0;34m.\u001b[0m\u001b[0mcolumns\u001b[0m\u001b[0;34m.\u001b[0m\u001b[0mget_loc\u001b[0m\u001b[0;34m(\u001b[0m\u001b[0mkey\u001b[0m\u001b[0;34m)\u001b[0m\u001b[0;34m\u001b[0m\u001b[0;34m\u001b[0m\u001b[0m\n\u001b[0m\u001b[1;32m   2928\u001b[0m             \u001b[0;32mif\u001b[0m \u001b[0mis_integer\u001b[0m\u001b[0;34m(\u001b[0m\u001b[0mindexer\u001b[0m\u001b[0;34m)\u001b[0m\u001b[0;34m:\u001b[0m\u001b[0;34m\u001b[0m\u001b[0;34m\u001b[0m\u001b[0m\n\u001b[1;32m   2929\u001b[0m                 \u001b[0mindexer\u001b[0m \u001b[0;34m=\u001b[0m \u001b[0;34m[\u001b[0m\u001b[0mindexer\u001b[0m\u001b[0;34m]\u001b[0m\u001b[0;34m\u001b[0m\u001b[0;34m\u001b[0m\u001b[0m\n",
      "\u001b[0;32m//anaconda3/lib/python3.7/site-packages/pandas/core/indexes/base.py\u001b[0m in \u001b[0;36mget_loc\u001b[0;34m(self, key, method, tolerance)\u001b[0m\n\u001b[1;32m   2657\u001b[0m                 \u001b[0;32mreturn\u001b[0m \u001b[0mself\u001b[0m\u001b[0;34m.\u001b[0m\u001b[0m_engine\u001b[0m\u001b[0;34m.\u001b[0m\u001b[0mget_loc\u001b[0m\u001b[0;34m(\u001b[0m\u001b[0mkey\u001b[0m\u001b[0;34m)\u001b[0m\u001b[0;34m\u001b[0m\u001b[0;34m\u001b[0m\u001b[0m\n\u001b[1;32m   2658\u001b[0m             \u001b[0;32mexcept\u001b[0m \u001b[0mKeyError\u001b[0m\u001b[0;34m:\u001b[0m\u001b[0;34m\u001b[0m\u001b[0;34m\u001b[0m\u001b[0m\n\u001b[0;32m-> 2659\u001b[0;31m                 \u001b[0;32mreturn\u001b[0m \u001b[0mself\u001b[0m\u001b[0;34m.\u001b[0m\u001b[0m_engine\u001b[0m\u001b[0;34m.\u001b[0m\u001b[0mget_loc\u001b[0m\u001b[0;34m(\u001b[0m\u001b[0mself\u001b[0m\u001b[0;34m.\u001b[0m\u001b[0m_maybe_cast_indexer\u001b[0m\u001b[0;34m(\u001b[0m\u001b[0mkey\u001b[0m\u001b[0;34m)\u001b[0m\u001b[0;34m)\u001b[0m\u001b[0;34m\u001b[0m\u001b[0;34m\u001b[0m\u001b[0m\n\u001b[0m\u001b[1;32m   2660\u001b[0m         \u001b[0mindexer\u001b[0m \u001b[0;34m=\u001b[0m \u001b[0mself\u001b[0m\u001b[0;34m.\u001b[0m\u001b[0mget_indexer\u001b[0m\u001b[0;34m(\u001b[0m\u001b[0;34m[\u001b[0m\u001b[0mkey\u001b[0m\u001b[0;34m]\u001b[0m\u001b[0;34m,\u001b[0m \u001b[0mmethod\u001b[0m\u001b[0;34m=\u001b[0m\u001b[0mmethod\u001b[0m\u001b[0;34m,\u001b[0m \u001b[0mtolerance\u001b[0m\u001b[0;34m=\u001b[0m\u001b[0mtolerance\u001b[0m\u001b[0;34m)\u001b[0m\u001b[0;34m\u001b[0m\u001b[0;34m\u001b[0m\u001b[0m\n\u001b[1;32m   2661\u001b[0m         \u001b[0;32mif\u001b[0m \u001b[0mindexer\u001b[0m\u001b[0;34m.\u001b[0m\u001b[0mndim\u001b[0m \u001b[0;34m>\u001b[0m \u001b[0;36m1\u001b[0m \u001b[0;32mor\u001b[0m \u001b[0mindexer\u001b[0m\u001b[0;34m.\u001b[0m\u001b[0msize\u001b[0m \u001b[0;34m>\u001b[0m \u001b[0;36m1\u001b[0m\u001b[0;34m:\u001b[0m\u001b[0;34m\u001b[0m\u001b[0;34m\u001b[0m\u001b[0m\n",
      "\u001b[0;32mpandas/_libs/index.pyx\u001b[0m in \u001b[0;36mpandas._libs.index.IndexEngine.get_loc\u001b[0;34m()\u001b[0m\n",
      "\u001b[0;32mpandas/_libs/index.pyx\u001b[0m in \u001b[0;36mpandas._libs.index.IndexEngine.get_loc\u001b[0;34m()\u001b[0m\n",
      "\u001b[0;32mpandas/_libs/hashtable_class_helper.pxi\u001b[0m in \u001b[0;36mpandas._libs.hashtable.PyObjectHashTable.get_item\u001b[0;34m()\u001b[0m\n",
      "\u001b[0;32mpandas/_libs/hashtable_class_helper.pxi\u001b[0m in \u001b[0;36mpandas._libs.hashtable.PyObjectHashTable.get_item\u001b[0;34m()\u001b[0m\n",
      "\u001b[0;31mKeyError\u001b[0m: False"
=======
     "name": "stdout",
     "output_type": "stream",
     "text": [
      "120    Memento\n",
      "Name: Movie Title, dtype: object\n",
      "22    Spring Breakers\n",
      "Name: Movie Title, dtype: object\n",
      "118    Lord of the Rings: The Fellowship of the Ring\n",
      "Name: Movie Title, dtype: object\n",
      "50    Children of Men\n",
      "Name: Movie Title, dtype: object\n",
      "37    A Separation\n",
      "Name: Movie Title, dtype: object\n",
      "135    Finding Nemo\n",
      "Name: Movie Title, dtype: object\n",
      "124    Iron Man\n",
      "Name: Movie Title, dtype: object\n",
      "93    Walk the Line\n",
      "Name: Movie Title, dtype: object\n",
      "124    Iron Man\n",
      "Name: Movie Title, dtype: object\n",
      "123    Spider-Man 2\n",
      "Name: Movie Title, dtype: object\n"
>>>>>>> e058c6b86743ac94e391b9bae3229195cb7a50d9
     ]
    }
   ],
   "source": [
<<<<<<< HEAD
    "mask = movies[\"Movie ID\" == 121]\n",
    "print(mask)\n",
    "# movies.loc[mask]"
=======
    "uitems = df.loc[7084]\n",
    "for i in uitems:\n",
    "    print(movies.loc[movies['Movie ID'] == i, 'Movie Title'])"
>>>>>>> e058c6b86743ac94e391b9bae3229195cb7a50d9
   ]
  },
  {
   "cell_type": "code",
<<<<<<< HEAD
   "execution_count": 47,
   "metadata": {
    "ExecuteTime": {
     "end_time": "2020-04-08T07:31:43.033105Z",
     "start_time": "2020-04-08T07:31:43.018530Z"
=======
   "execution_count": 44,
   "metadata": {
    "ExecuteTime": {
     "end_time": "2020-04-08T07:14:26.404751Z",
     "start_time": "2020-04-08T07:14:26.381476Z"
>>>>>>> e058c6b86743ac94e391b9bae3229195cb7a50d9
    }
   },
   "outputs": [
    {
<<<<<<< HEAD
     "data": {
      "text/plain": [
       "120    Memento\n",
       "Name: Movie Title, dtype: object"
      ]
     },
     "execution_count": 47,
     "metadata": {},
     "output_type": "execute_result"
    }
   ],
   "source": [
    "movies[\"Movie Title\"][movies[\"Movie ID\"] == 121]"
=======
     "name": "stdout",
     "output_type": "stream",
     "text": [
      "120    Memento\n",
      "Name: Movie Title, dtype: object\n",
      "22    Spring Breakers\n",
      "Name: Movie Title, dtype: object\n",
      "118    Lord of the Rings: The Fellowship of the Ring\n",
      "Name: Movie Title, dtype: object\n",
      "50    Children of Men\n",
      "Name: Movie Title, dtype: object\n",
      "37    A Separation\n",
      "Name: Movie Title, dtype: object\n",
      "135    Finding Nemo\n",
      "Name: Movie Title, dtype: object\n",
      "124    Iron Man\n",
      "Name: Movie Title, dtype: object\n",
      "93    Walk the Line\n",
      "Name: Movie Title, dtype: object\n",
      "123    Spider-Man 2\n",
      "Name: Movie Title, dtype: object\n",
      "76    The Sisterhood of the Travelling Pants\n",
      "Name: Movie Title, dtype: object\n",
      "75    Sin City\n",
      "Name: Movie Title, dtype: object\n",
      "105    Superbad\n",
      "Name: Movie Title, dtype: object\n",
      "117    The Departed\n",
      "Name: Movie Title, dtype: object\n",
      "57    4 months, 3 weeks and 2 days\n",
      "Name: Movie Title, dtype: object\n",
      "108    Broken Flowers\n",
      "Name: Movie Title, dtype: object\n",
      "97    Kill Bill: Volume 1\n",
      "Name: Movie Title, dtype: object\n",
      "85    Barbershop\n",
      "Name: Movie Title, dtype: object\n",
      "95    Mean Girls\n",
      "Name: Movie Title, dtype: object\n",
      "12    Zama\n",
      "Name: Movie Title, dtype: object\n",
      "20    The Grand Budapest Hotel\n",
      "Name: Movie Title, dtype: object\n",
      "99    Bend it like Beckham\n",
      "Name: Movie Title, dtype: object\n",
      "44    Toni Erdmann\n",
      "Name: Movie Title, dtype: object\n",
      "33    Winter's Bone\n",
      "Name: Movie Title, dtype: object\n",
      "91    Serenity\n",
      "Name: Movie Title, dtype: object\n",
      "81    Tropic Thunder\n",
      "Name: Movie Title, dtype: object\n",
      "78    Pirates of the Caribbean: The Curse of the Bla...\n",
      "Name: Movie Title, dtype: object\n",
      "65    mudbound\n",
      "Name: Movie Title, dtype: object\n",
      "34    12 Year's a Slave\n",
      "Name: Movie Title, dtype: object\n",
      "106    Donnie Darko\n",
      "Name: Movie Title, dtype: object\n",
      "122    Shaun of the Dead\n",
      "Name: Movie Title, dtype: object\n",
      "88    Avatar\n",
      "Name: Movie Title, dtype: object\n",
      "79    Requiem for a Dream\n",
      "Name: Movie Title, dtype: object\n",
      "39    Phantom Thread\n",
      "Name: Movie Title, dtype: object\n",
      "32    Under the Skin\n",
      "Name: Movie Title, dtype: object\n",
      "41    Mad Max: Fury Road\n",
      "Name: Movie Title, dtype: object\n",
      "131    Persepolis\n",
      "Name: Movie Title, dtype: object\n",
      "9    I am not your Negro\n",
      "Name: Movie Title, dtype: object\n",
      "90    Mulholland Drive\n",
      "Name: Movie Title, dtype: object\n",
      "109    Brokeback Mountain\n",
      "Name: Movie Title, dtype: object\n",
      "5    Black Coal, Thin Ice\n",
      "Name: Movie Title, dtype: object\n",
      "7    Amour\n",
      "Name: Movie Title, dtype: object\n",
      "126    Spy Kids\n",
      "Name: Movie Title, dtype: object\n",
      "47    Holy Motors\n",
      "Name: Movie Title, dtype: object\n",
      "43    The Master\n",
      "Name: Movie Title, dtype: object\n",
      "13    45 Years\n",
      "Name: Movie Title, dtype: object\n",
      "67    Son of Saul\n",
      "Name: Movie Title, dtype: object\n",
      "59    Eternal sunshine of the spotless mind\n",
      "Name: Movie Title, dtype: object\n",
      "54    Pan's Labyrinth\n",
      "Name: Movie Title, dtype: object\n",
      "89    Elf\n",
      "Name: Movie Title, dtype: object\n",
      "121    The Bourne Ultimatum\n",
      "Name: Movie Title, dtype: object\n",
      "61    you can count on me\n",
      "Name: Movie Title, dtype: object\n",
      "40    Carol\n",
      "Name: Movie Title, dtype: object\n",
      "30    The Irishman\n",
      "Name: Movie Title, dtype: object\n",
      "6    Hereditary\n",
      "Name: Movie Title, dtype: object\n",
      "31    Anomalisa\n",
      "Name: Movie Title, dtype: object\n",
      "21    Zero Dark Thirty\n",
      "Name: Movie Title, dtype: object\n",
      "38    Parasite\n",
      "Name: Movie Title, dtype: object\n",
      "24    Uncle Boonmee Who Can Recall His Past Lives\n",
      "Name: Movie Title, dtype: object\n",
      "63    I'm not there\n",
      "Name: Movie Title, dtype: object\n",
      "53    Michael Clayton\n",
      "Name: Movie Title, dtype: object\n",
      "98    500 days of Summer\n",
      "Name: Movie Title, dtype: object\n",
      "27    Dunkirk\n",
      "Name: Movie Title, dtype: object\n",
      "80    Oldeuboi\n",
      "Name: Movie Title, dtype: object\n",
      "130    WALL-E\n",
      "Name: Movie Title, dtype: object\n",
      "52    The Hurt Locker\n",
      "Name: Movie Title, dtype: object\n",
      "29    Burning\n",
      "Name: Movie Title, dtype: object\n",
      "134    Up\n",
      "Name: Movie Title, dtype: object\n",
      "68    Stories we tell\n",
      "Name: Movie Title, dtype: object\n",
      "102    Garden State\n",
      "Name: Movie Title, dtype: object\n",
      "66    Spotlight\n",
      "Name: Movie Title, dtype: object\n",
      "116    Slumdog Millionaire\n",
      "Name: Movie Title, dtype: object\n",
      "60    hunger\n",
      "Name: Movie Title, dtype: object\n",
      "56    Boyhood\n",
      "Name: Movie Title, dtype: object\n",
      "3    Lincoln\n",
      "Name: Movie Title, dtype: object\n",
      "74    Gladiator\n",
      "Name: Movie Title, dtype: object\n",
      "129    Juno\n",
      "Name: Movie Title, dtype: object\n",
      "1    Once upon a time in Hollywood\n",
      "Name: Movie Title, dtype: object\n",
      "110    Inglourious Basterds\n",
      "Name: Movie Title, dtype: object\n",
      "15    Tangerine\n",
      "Name: Movie Title, dtype: object\n",
      "8    Elena\n",
      "Name: Movie Title, dtype: object\n",
      "113    Zodiac\n",
      "Name: Movie Title, dtype: object\n",
      "62    no country for old men\n",
      "Name: Movie Title, dtype: object\n",
      "35    Faces Places\n",
      "Name: Movie Title, dtype: object\n",
      "51    25th Hour\n",
      "Name: Movie Title, dtype: object\n",
      "64    minority report\n",
      "Name: Movie Title, dtype: object\n",
      "26    The Act of Killing\n",
      "Name: Movie Title, dtype: object\n",
      "25    Selma\n",
      "Name: Movie Title, dtype: object\n",
      "46    Boyhood\n",
      "Name: Movie Title, dtype: object\n",
      "84    Love and Basketball\n",
      "Name: Movie Title, dtype: object\n",
      "107    Heathers\n",
      "Name: Movie Title, dtype: object\n",
      "36    Inside Llewyln Davis\n",
      "Name: Movie Title, dtype: object\n"
     ]
    }
   ],
   "source": [
    "for i in list_items:\n",
    "    print(movies.loc[movies['Movie ID'] == i, 'Movie Title'])"
>>>>>>> e058c6b86743ac94e391b9bae3229195cb7a50d9
   ]
  },
  {
   "cell_type": "code",
<<<<<<< HEAD
   "execution_count": 48,
   "metadata": {
    "ExecuteTime": {
     "end_time": "2020-04-08T07:32:32.993616Z",
     "start_time": "2020-04-08T07:32:32.974494Z"
    }
   },
   "outputs": [
    {
     "data": {
      "text/plain": [
       "120    Memento\n",
       "Name: Movie Title, dtype: object"
      ]
     },
     "execution_count": 48,
     "metadata": {},
     "output_type": "execute_result"
    }
   ],
   "source": [
    "movies.loc[movies[\"Movie ID\"] == 121, \"Movie Title\"]"
=======
   "execution_count": null,
   "metadata": {},
   "outputs": [],
   "source": []
  },
  {
   "cell_type": "code",
   "execution_count": null,
   "metadata": {},
   "outputs": [],
   "source": []
  },
  {
   "cell_type": "code",
   "execution_count": null,
   "metadata": {
    "ExecuteTime": {
     "end_time": "2020-04-08T07:14:28.802607Z",
     "start_time": "2020-04-08T07:14:28.794534Z"
    }
   },
   "outputs": [],
   "source": [
    "user_item_series = df.loc[7084]\n",
    "user_item_series\n",
    "\n",
    "# "
>>>>>>> e058c6b86743ac94e391b9bae3229195cb7a50d9
   ]
  },
  {
   "cell_type": "code",
   "execution_count": null,
   "metadata": {},
   "outputs": [],
   "source": []
  }
 ],
 "metadata": {
  "kernelspec": {
   "display_name": "Python 3",
   "language": "python",
   "name": "python3"
  },
  "language_info": {
   "codemirror_mode": {
    "name": "ipython",
    "version": 3
   },
   "file_extension": ".py",
   "mimetype": "text/x-python",
   "name": "python",
   "nbconvert_exporter": "python",
   "pygments_lexer": "ipython3",
<<<<<<< HEAD
   "version": "3.7.3"
=======
   "version": "3.7.4"
>>>>>>> e058c6b86743ac94e391b9bae3229195cb7a50d9
  },
  "toc": {
   "base_numbering": 1,
   "nav_menu": {},
   "number_sections": true,
   "sideBar": true,
   "skip_h1_title": false,
   "title_cell": "Table of Contents",
   "title_sidebar": "Contents",
   "toc_cell": false,
   "toc_position": {},
   "toc_section_display": true,
   "toc_window_display": false
  }
 },
 "nbformat": 4,
 "nbformat_minor": 2
}
