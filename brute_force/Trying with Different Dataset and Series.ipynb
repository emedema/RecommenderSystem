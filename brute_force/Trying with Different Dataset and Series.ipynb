{
 "cells": [
  {
   "cell_type": "code",
   "execution_count": 2,
   "metadata": {
    "ExecuteTime": {
     "end_time": "2020-04-08T06:43:00.401116Z",
     "start_time": "2020-04-08T06:42:57.544724Z"
    }
   },
   "outputs": [],
   "source": [
    "import pandas as pd\n",
    "import numpy as np"
   ]
  },
  {
   "cell_type": "code",
   "execution_count": 4,
   "metadata": {
    "ExecuteTime": {
     "end_time": "2020-04-08T06:43:00.525437Z",
     "start_time": "2020-04-08T06:43:00.406861Z"
    }
   },
   "outputs": [
    {
     "name": "stdout",
     "output_type": "stream",
     "text": [
      "                     Movie Title  Movie ID\n",
      "0                  Black Panther         1\n",
      "1  Once upon a time in Hollywood         2\n",
      "2                      The Tribe         3\n"
     ]
    }
   ],
   "source": [
    "movies = pd.read_csv('../data/movies.csv')\n",
    "print(movies.head(3))"
   ]
  },
  {
   "cell_type": "code",
   "execution_count": 6,
   "metadata": {
    "ExecuteTime": {
     "end_time": "2020-04-08T06:43:25.088562Z",
     "start_time": "2020-04-08T06:43:25.063684Z"
    }
   },
   "outputs": [
    {
     "name": "stdout",
     "output_type": "stream",
     "text": [
      "         Movie 1  Movie 2  Movie 3  Movie 4  Movie 5  Movie 6  Movie 7  \\\n",
      "User ID                                                                  \n",
      "6925          12       95        3      115      120       73        5   \n",
      "8297          91      119       10       55      114       73       63   \n",
      "5419         100       40      123       33        3       42      132   \n",
      "\n",
      "         Movie 8  Movie 9  Movie 10  \n",
      "User ID                              \n",
      "6925          19       83       126  \n",
      "8297          81       55        36  \n",
      "5419         119       10        34  \n"
     ]
    }
   ],
   "source": [
    "df = pd.read_csv('../data/users_likes.csv', index_col=\"User ID\")\n",
    "print(df.head(3))"
   ]
  },
  {
   "cell_type": "code",
   "execution_count": 24,
   "metadata": {},
   "outputs": [
    {
     "name": "stdout",
     "output_type": "stream",
     "text": [
      "         Movie 1  Movie 2  Movie 3  Movie 4  Movie 5  Movie 6  Movie 7  \\\n",
      "User ID                                                                  \n",
      "6925          29      105       17       14       44       50       90   \n",
      "8297          29       90        2       34       44       87       76   \n",
      "5419          30       43       82      121      123       51        7   \n",
      "\n",
      "         Movie 8  Movie 9  Movie 10  \n",
      "User ID                              \n",
      "6925          28       88         2  \n",
      "8297          11      113        31  \n",
      "5419         120      105         5  \n"
     ]
    }
   ],
   "source": [
    "df_not = pd.read_csv('../data/users_dislikes.csv', index_col = \"User ID\")\n",
    "print(df_not.head(3))"
   ]
  },
  {
   "cell_type": "raw",
   "metadata": {},
   "source": [
    "Since the dataframe uses the user id as a key, it acts more similarly to a dictionary of lists, where each userid has a vector of ratings for each movie"
   ]
  },
  {
   "cell_type": "markdown",
   "metadata": {},
   "source": [
    "Okay so as you can see, in movies we have the movie title and the movie id. In the users csv we have a list of users and their top 10 favourite movies. Through this we can use collaborative filtering to recommend a movie to a given user, based on their similarity to other users top 10 lists!"
   ]
  },
  {
   "cell_type": "code",
   "execution_count": 25,
   "metadata": {
    "ExecuteTime": {
     "end_time": "2020-04-08T06:47:51.342645Z",
     "start_time": "2020-04-08T06:47:51.333943Z"
    }
   },
   "outputs": [],
   "source": [
    "#to figure out similarity we will be counting inversions via this method:\n",
    "def compareInv(A,B):\n",
    "    numInv = 0\n",
    "    for i in range(0, len(A)):\n",
    "        for j in range(0, len(A)):\n",
    "            if A[i] != B[j] and i != j:\n",
    "                numInv = numInv + 1\n",
    "    return numInv"
   ]
  },
  {
   "cell_type": "code",
   "execution_count": 27,
   "metadata": {
    "ExecuteTime": {
     "end_time": "2020-04-08T06:50:57.684151Z",
     "start_time": "2020-04-08T06:50:57.458062Z"
    }
   },
   "outputs": [
    {
     "name": "stdout",
     "output_type": "stream",
     "text": [
      "Movie 1      12\n",
      "Movie 2      95\n",
      "Movie 3       3\n",
      "Movie 4     115\n",
      "Movie 5     120\n",
      "Movie 6      73\n",
      "Movie 7       5\n",
      "Movie 8      19\n",
      "Movie 9      83\n",
      "Movie 10    126\n",
      "Name: 6925, dtype: int64\n",
      "Movie 1      29\n",
      "Movie 2     105\n",
      "Movie 3      17\n",
      "Movie 4      14\n",
      "Movie 5      44\n",
      "Movie 6      50\n",
      "Movie 7      90\n",
      "Movie 8      28\n",
      "Movie 9      88\n",
      "Movie 10      2\n",
      "Name: 6925, dtype: int64\n"
     ]
    },
    {
     "ename": "IndexError",
     "evalue": "list index out of range",
     "output_type": "error",
     "traceback": [
      "\u001b[0;31m---------------------------------------------------------------------------\u001b[0m",
      "\u001b[0;31mIndexError\u001b[0m                                Traceback (most recent call last)",
      "\u001b[0;32m<ipython-input-27-bb5b7fdc65f5>\u001b[0m in \u001b[0;36m<module>\u001b[0;34m\u001b[0m\n\u001b[1;32m     16\u001b[0m         \u001b[0msimLikes\u001b[0m \u001b[0;34m=\u001b[0m \u001b[0;36m0\u001b[0m\u001b[0;34m\u001b[0m\u001b[0;34m\u001b[0m\u001b[0m\n\u001b[1;32m     17\u001b[0m         \u001b[0msimNot\u001b[0m \u001b[0;34m=\u001b[0m \u001b[0;36m0\u001b[0m\u001b[0;34m\u001b[0m\u001b[0;34m\u001b[0m\u001b[0m\n\u001b[0;32m---> 18\u001b[0;31m         \u001b[0msimLikes\u001b[0m \u001b[0;34m=\u001b[0m \u001b[0mcompareInv\u001b[0m\u001b[0;34m(\u001b[0m\u001b[0mgiven_user_likes\u001b[0m\u001b[0;34m,\u001b[0m \u001b[0ma\u001b[0m\u001b[0;34m)\u001b[0m\u001b[0;34m\u001b[0m\u001b[0;34m\u001b[0m\u001b[0m\n\u001b[0m\u001b[1;32m     19\u001b[0m         \u001b[0msimNot\u001b[0m \u001b[0;34m=\u001b[0m \u001b[0mcompareInv\u001b[0m\u001b[0;34m(\u001b[0m\u001b[0mgiven_user_dislikes\u001b[0m\u001b[0;34m,\u001b[0m \u001b[0ma\u001b[0m\u001b[0;34m)\u001b[0m\u001b[0;34m\u001b[0m\u001b[0;34m\u001b[0m\u001b[0m\n\u001b[1;32m     20\u001b[0m         \u001b[0msim\u001b[0m \u001b[0;34m=\u001b[0m \u001b[0msimLikes\u001b[0m \u001b[0;34m+\u001b[0m \u001b[0msimNot\u001b[0m\u001b[0;34m\u001b[0m\u001b[0;34m\u001b[0m\u001b[0m\n",
      "\u001b[0;32m<ipython-input-25-5612b4017610>\u001b[0m in \u001b[0;36mcompareInv\u001b[0;34m(A, B)\u001b[0m\n\u001b[1;32m      4\u001b[0m     \u001b[0;32mfor\u001b[0m \u001b[0mi\u001b[0m \u001b[0;32min\u001b[0m \u001b[0mrange\u001b[0m\u001b[0;34m(\u001b[0m\u001b[0;36m0\u001b[0m\u001b[0;34m,\u001b[0m \u001b[0mlen\u001b[0m\u001b[0;34m(\u001b[0m\u001b[0mA\u001b[0m\u001b[0;34m)\u001b[0m\u001b[0;34m)\u001b[0m\u001b[0;34m:\u001b[0m\u001b[0;34m\u001b[0m\u001b[0;34m\u001b[0m\u001b[0m\n\u001b[1;32m      5\u001b[0m         \u001b[0;32mfor\u001b[0m \u001b[0mj\u001b[0m \u001b[0;32min\u001b[0m \u001b[0mrange\u001b[0m\u001b[0;34m(\u001b[0m\u001b[0;36m0\u001b[0m\u001b[0;34m,\u001b[0m \u001b[0mlen\u001b[0m\u001b[0;34m(\u001b[0m\u001b[0mA\u001b[0m\u001b[0;34m)\u001b[0m\u001b[0;34m)\u001b[0m\u001b[0;34m:\u001b[0m\u001b[0;34m\u001b[0m\u001b[0;34m\u001b[0m\u001b[0m\n\u001b[0;32m----> 6\u001b[0;31m             \u001b[0;32mif\u001b[0m \u001b[0mA\u001b[0m\u001b[0;34m[\u001b[0m\u001b[0mi\u001b[0m\u001b[0;34m]\u001b[0m \u001b[0;34m!=\u001b[0m \u001b[0mB\u001b[0m\u001b[0;34m[\u001b[0m\u001b[0mj\u001b[0m\u001b[0;34m]\u001b[0m \u001b[0;32mand\u001b[0m \u001b[0mi\u001b[0m \u001b[0;34m!=\u001b[0m \u001b[0mj\u001b[0m\u001b[0;34m:\u001b[0m\u001b[0;34m\u001b[0m\u001b[0;34m\u001b[0m\u001b[0m\n\u001b[0m\u001b[1;32m      7\u001b[0m                 \u001b[0mnumInv\u001b[0m \u001b[0;34m=\u001b[0m \u001b[0mnumInv\u001b[0m \u001b[0;34m+\u001b[0m \u001b[0;36m1\u001b[0m\u001b[0;34m\u001b[0m\u001b[0;34m\u001b[0m\u001b[0m\n\u001b[1;32m      8\u001b[0m     \u001b[0;32mreturn\u001b[0m \u001b[0mnumInv\u001b[0m\u001b[0;34m\u001b[0m\u001b[0;34m\u001b[0m\u001b[0m\n",
      "\u001b[0;31mIndexError\u001b[0m: list index out of range"
     ]
    }
   ],
   "source": [
    "#let's take our first user as the given user\n",
    "#Now lets calculate their similarity to the other users in our data\n",
    "simArray = pd.DataFrame(columns = [\"Sim\", \"User\"])\n",
    "\n",
    "given_user_likes = df.loc[6925]\n",
    "print(given_user_likes)\n",
    "given_user_dislikes = df_not.loc[6925]\n",
    "print(given_user_dislikes)\n",
    "\n",
    "\n",
    "simSeries = pd.Series(0, index=df.index)\n",
    "for i in df.index: \n",
    "    if(i != 0):\n",
    "        a = []\n",
    "        sim = 0\n",
    "        simLikes = 0\n",
    "        simNot = 0\n",
    "        simLikes = compareInv(given_user_likes, a)\n",
    "        simNot = compareInv(given_user_dislikes, a)\n",
    "        sim = simLikes + simNot\n",
    "        simArray = simArray.append({\"Sim\":sim, \"User\":i}, ignore_index = True)\n",
    "        simSeries.loc[i] = sim\n"
   ]
  },
  {
   "cell_type": "code",
   "execution_count": 9,
   "metadata": {
    "ExecuteTime": {
     "end_time": "2020-04-08T06:50:59.263244Z",
     "start_time": "2020-04-08T06:50:59.254183Z"
    }
   },
   "outputs": [
    {
     "name": "stdout",
     "output_type": "stream",
     "text": [
      "   Sim  User\n",
      "0   90  6925\n",
      "1   90  8297\n",
      "2   89  5419\n",
      "3   90  3115\n",
      "4   88  4913\n",
      "5   90  8116\n",
      "6   90  2784\n",
      "7   90  3084\n",
      "8   90  7084\n",
      "9   89  2812\n",
      "10  90   991\n",
      "11  89  9723\n",
      "12  89  6946\n",
      "13  90  1001\n",
      "14  90  1515\n",
      "15  89  2186\n",
      "16  89  7140\n",
      "17  90  9422\n",
      "18  90   150\n"
     ]
    }
   ],
   "source": [
    "print(simArray)"
   ]
  },
  {
   "cell_type": "code",
   "execution_count": 10,
   "metadata": {
    "ExecuteTime": {
     "end_time": "2020-04-08T06:53:44.271454Z",
     "start_time": "2020-04-08T06:53:44.259815Z"
    }
   },
   "outputs": [
    {
     "data": {
      "text/plain": [
       "User ID\n",
       "6925    90\n",
       "8297    90\n",
       "5419    89\n",
       "3115    90\n",
       "4913    88\n",
       "8116    90\n",
       "2784    90\n",
       "3084    90\n",
       "7084    90\n",
       "2812    89\n",
       "991     90\n",
       "9723    89\n",
       "6946    89\n",
       "1001    90\n",
       "1515    90\n",
       "2186    89\n",
       "7140    89\n",
       "9422    90\n",
       "150     90\n",
       "dtype: int64"
      ]
     },
     "execution_count": 10,
     "metadata": {},
     "output_type": "execute_result"
    }
   ],
   "source": [
    "# user id acts as a hashtable for similarity\n",
    "simSeries"
   ]
  },
  {
   "cell_type": "code",
   "execution_count": 11,
   "metadata": {
    "ExecuteTime": {
     "end_time": "2020-04-08T06:54:33.073240Z",
     "start_time": "2020-04-08T06:54:33.056962Z"
    }
   },
   "outputs": [
    {
     "name": "stdout",
     "output_type": "stream",
     "text": [
      "   Sim  User\n",
      "4   88  4913\n",
      "9   89  2812\n",
      "16  89  7140\n",
      "2   89  5419\n",
      "15  89  2186\n",
      "12  89  6946\n",
      "11  89  9723\n",
      "14  90  1515\n",
      "13  90  1001\n",
      "10  90   991\n",
      "0   90  6925\n",
      "8   90  7084\n",
      "7   90  3084\n",
      "6   90  2784\n",
      "5   90  8116\n",
      "3   90  3115\n",
      "1   90  8297\n",
      "17  90  9422\n",
      "18  90   150\n"
     ]
    }
   ],
   "source": [
    "#now we have the similarity of every user except the given user\n",
    "#Lets sort by the highest similarity\n",
    "#we want to sort ascending as the higher the sim number the more differences there are in their ranking\n",
    "#therefore they are less similar.\n",
    "S = simArray.sort_values(by='Sim', ascending=True)\n",
    "print(S)"
   ]
  },
  {
   "cell_type": "code",
   "execution_count": 12,
   "metadata": {
    "ExecuteTime": {
     "end_time": "2020-04-08T07:04:47.061613Z",
     "start_time": "2020-04-08T07:04:47.051217Z"
    }
   },
   "outputs": [
    {
     "name": "stdout",
     "output_type": "stream",
     "text": [
      "User ID\n",
      "4913    88\n",
      "2812    89\n",
      "7140    89\n",
      "5419    89\n",
      "2186    89\n",
      "6946    89\n",
      "9723    89\n",
      "1515    90\n",
      "1001    90\n",
      "991     90\n",
      "6925    90\n",
      "7084    90\n",
      "3084    90\n",
      "2784    90\n",
      "8116    90\n",
      "3115    90\n",
      "8297    90\n",
      "9422    90\n",
      "150     90\n",
      "dtype: int64\n"
     ]
    }
   ],
   "source": [
    "# More similar = less inversions so lower similarity\n",
    "simSeries = simSeries.sort_values(ascending=True)\n",
    "print(simSeries)"
   ]
  },
  {
   "cell_type": "code",
   "execution_count": 98,
   "metadata": {
    "code_folding": [],
    "collapsed": true
   },
   "outputs": [
    {
     "name": "stdout",
     "output_type": "stream",
     "text": [
      "   Sim  User\n",
      "7    6  7084\n",
      "4   14  8116\n",
      "14  14  2186\n",
      "2   16  3115\n",
      "1   19  5419\n",
      "6   19  3084\n",
      "16  19  9422\n",
      "17  20   150\n",
      "5   20  2784\n",
      "11  20  6946\n",
      "12  20  1001\n",
      "3   22  4913\n",
      "10  22  9723\n",
      "0   23  8297\n",
      "13  23  1515\n",
      "9   24   991\n",
      "8   24  2812\n",
      "15  25  7140\n",
      "[]\n"
     ]
    }
   ],
   "source": [
    "#according to this user 7140 has the highest similarity index\n",
    "#but to make sure we have enough data we will take the first w of the highest users\n",
    "list_items = []\n",
    "for i in S.index:\n",
    "    user = S[\"User\"][i]\n",
    "    user_items = df.loc[df['User ID'] == user]\n",
    "    items = user_items.loc[:, user_items.columns != 'User ID']\n",
    "\n",
    "print(list_items)"
   ]
  },
  {
   "cell_type": "code",
   "execution_count": null,
   "metadata": {},
   "outputs": [],
   "source": []
  },
  {
   "cell_type": "code",
   "execution_count": 13,
   "metadata": {
    "ExecuteTime": {
     "end_time": "2020-04-08T07:17:00.694919Z",
     "start_time": "2020-04-08T07:17:00.674834Z"
    }
   },
   "outputs": [
    {
     "name": "stdout",
     "output_type": "stream",
     "text": [
      "[45, 67, 7, 31, 3, 8, 127, 136, 32, 118, 27, 6, 44, 26, 47, 35, 5, 66, 85, 51, 60, 100, 108, 34, 37, 54, 40, 123, 33, 42, 132, 119, 10, 77, 76, 106, 58, 109, 98, 86, 96, 64, 99, 28, 81, 117, 61, 57, 62, 4, 75, 130, 2, 111, 80, 16, 48, 9, 23, 55, 90, 22, 39, 25, 126, 52, 63, 65, 38, 12, 95, 115, 120, 73, 19, 83, 121, 125, 94, 124, 91, 110, 89, 69, 103, 13, 21, 92, 82, 79, 107, 114, 36, 14, 68, 122, 41, 131, 53, 30, 135]\n"
     ]
    }
   ],
   "source": [
    "#according to this user 7084 has the highest similarity index\n",
    "# because it has the lowest number of inversions\n",
    "#but to make sure we have enough data we will take the first w of the highest users\n",
    "\n",
    "# save as set -> dont check for duplicates\n",
    "list_items = []\n",
    "for user_id in simSeries.index:\n",
    "    # get the items the user has reviewed\n",
    "    user_items = df.loc[user_id]\n",
    "    for item in user_items:\n",
    "        if item not in list_items:\n",
    "            list_items.append(item)\n",
    "\n",
    "print(list_items)"
   ]
  },
  {
   "cell_type": "code",
   "execution_count": 39,
   "metadata": {
    "ExecuteTime": {
     "end_time": "2020-04-08T07:14:26.404751Z",
     "start_time": "2020-04-08T07:14:26.381476Z"
    }
   },
   "outputs": [],
   "source": [
    "matrix [n users X m items]\n"
   ]
  },
  {
   "cell_type": "code",
   "execution_count": 21,
   "metadata": {
    "ExecuteTime": {
     "end_time": "2020-04-08T07:14:28.802607Z",
     "start_time": "2020-04-08T07:14:28.794534Z"
    }
   },
   "outputs": [
    {
     "name": "stdout",
     "output_type": "stream",
     "text": [
      "44    Toni Erdmann\n",
      "Name: Movie Title, dtype: object\n",
      "66    Spotlight\n",
      "Name: Movie Title, dtype: object\n",
      "6    Hereditary\n",
      "Name: Movie Title, dtype: object\n",
      "30    The Irishman\n",
      "Name: Movie Title, dtype: object\n",
      "2    The Tribe\n",
      "Name: Movie Title, dtype: object\n",
      "7    Amour\n",
      "Name: Movie Title, dtype: object\n",
      "126    Spy Kids\n",
      "Name: Movie Title, dtype: object\n",
      "135    Finding Nemo\n",
      "Name: Movie Title, dtype: object\n",
      "2    The Tribe\n",
      "Name: Movie Title, dtype: object\n",
      "31    Anomalisa\n",
      "Name: Movie Title, dtype: object\n"
     ]
    }
   ],
   "source": [
    "user_item_series = df.loc[4913]\n",
    "user_item_series\n",
    "\n",
    "\n",
    "for i in user_item_series:\n",
    "    print(movies.loc[movies[\"Movie ID\"] == i, \"Movie Title\"])"
   ]
  },
  {
   "cell_type": "code",
   "execution_count": 22,
   "metadata": {
    "ExecuteTime": {
     "end_time": "2020-04-08T07:14:28.802607Z",
     "start_time": "2020-04-08T07:14:28.794534Z"
    }
   },
   "outputs": [
    {
     "name": "stdout",
     "output_type": "stream",
     "text": [
      "11    First Reformed\n",
      "Name: Movie Title, dtype: object\n",
      "94    In Bruges\n",
      "Name: Movie Title, dtype: object\n",
      "2    The Tribe\n",
      "Name: Movie Title, dtype: object\n",
      "114    School of Rock\n",
      "Name: Movie Title, dtype: object\n",
      "119    Star Wars: Episode 4\n",
      "Name: Movie Title, dtype: object\n",
      "72    Moulin Rouge\n",
      "Name: Movie Title, dtype: object\n",
      "4    Personal Shopper\n",
      "Name: Movie Title, dtype: object\n",
      "18    No\n",
      "Name: Movie Title, dtype: object\n",
      "82    Bridget Jones's Diary\n",
      "Name: Movie Title, dtype: object\n",
      "125    The Dark Knight\n",
      "Name: Movie Title, dtype: object\n"
     ]
    }
   ],
   "source": [
    "\n",
    "for i in user_array:\n",
    "    print(movies.loc[movies[\"Movie ID\"] == i, \"Movie Title\"])\n",
    "\n"
   ]
  },
  {
   "cell_type": "code",
   "execution_count": 23,
   "metadata": {},
   "outputs": [
    {
     "name": "stdout",
     "output_type": "stream",
     "text": [
      "44    Toni Erdmann\n",
      "Name: Movie Title, dtype: object\n",
      "66    Spotlight\n",
      "Name: Movie Title, dtype: object\n",
      "6    Hereditary\n",
      "Name: Movie Title, dtype: object\n",
      "30    The Irishman\n",
      "Name: Movie Title, dtype: object\n",
      "2    The Tribe\n",
      "Name: Movie Title, dtype: object\n",
      "7    Amour\n",
      "Name: Movie Title, dtype: object\n",
      "126    Spy Kids\n",
      "Name: Movie Title, dtype: object\n",
      "135    Finding Nemo\n",
      "Name: Movie Title, dtype: object\n",
      "31    Anomalisa\n",
      "Name: Movie Title, dtype: object\n",
      "117    The Departed\n",
      "Name: Movie Title, dtype: object\n",
      "26    The Act of Killing\n",
      "Name: Movie Title, dtype: object\n",
      "5    Black Coal, Thin Ice\n",
      "Name: Movie Title, dtype: object\n",
      "43    The Master\n",
      "Name: Movie Title, dtype: object\n",
      "25    Selma\n",
      "Name: Movie Title, dtype: object\n",
      "46    Boyhood\n",
      "Name: Movie Title, dtype: object\n",
      "34    12 Year's a Slave\n",
      "Name: Movie Title, dtype: object\n",
      "4    Personal Shopper\n",
      "Name: Movie Title, dtype: object\n",
      "65    mudbound\n",
      "Name: Movie Title, dtype: object\n",
      "84    Love and Basketball\n",
      "Name: Movie Title, dtype: object\n",
      "50    Children of Men\n",
      "Name: Movie Title, dtype: object\n",
      "59    Eternal sunshine of the spotless mind\n",
      "Name: Movie Title, dtype: object\n",
      "99    Bend it like Beckham\n",
      "Name: Movie Title, dtype: object\n",
      "107    Heathers\n",
      "Name: Movie Title, dtype: object\n",
      "33    Winter's Bone\n",
      "Name: Movie Title, dtype: object\n",
      "36    Inside Llewyln Davis\n",
      "Name: Movie Title, dtype: object\n",
      "53    Michael Clayton\n",
      "Name: Movie Title, dtype: object\n",
      "39    Phantom Thread\n",
      "Name: Movie Title, dtype: object\n",
      "122    Shaun of the Dead\n",
      "Name: Movie Title, dtype: object\n",
      "32    Under the Skin\n",
      "Name: Movie Title, dtype: object\n",
      "41    Mad Max: Fury Road\n",
      "Name: Movie Title, dtype: object\n",
      "131    Persepolis\n",
      "Name: Movie Title, dtype: object\n",
      "118    Lord of the Rings: The Fellowship of the Ring\n",
      "Name: Movie Title, dtype: object\n",
      "9    I am not your Negro\n",
      "Name: Movie Title, dtype: object\n",
      "76    The Sisterhood of the Travelling Pants\n",
      "Name: Movie Title, dtype: object\n",
      "75    Sin City\n",
      "Name: Movie Title, dtype: object\n",
      "105    Superbad\n",
      "Name: Movie Title, dtype: object\n",
      "57    4 months, 3 weeks and 2 days\n",
      "Name: Movie Title, dtype: object\n",
      "108    Broken Flowers\n",
      "Name: Movie Title, dtype: object\n",
      "97    Kill Bill: Volume 1\n",
      "Name: Movie Title, dtype: object\n",
      "85    Barbershop\n",
      "Name: Movie Title, dtype: object\n",
      "95    Mean Girls\n",
      "Name: Movie Title, dtype: object\n",
      "63    I'm not there\n",
      "Name: Movie Title, dtype: object\n",
      "98    500 days of Summer\n",
      "Name: Movie Title, dtype: object\n",
      "27    Dunkirk\n",
      "Name: Movie Title, dtype: object\n",
      "80    Oldeuboi\n",
      "Name: Movie Title, dtype: object\n",
      "116    Slumdog Millionaire\n",
      "Name: Movie Title, dtype: object\n",
      "60    hunger\n",
      "Name: Movie Title, dtype: object\n",
      "56    Boyhood\n",
      "Name: Movie Title, dtype: object\n",
      "61    you can count on me\n",
      "Name: Movie Title, dtype: object\n",
      "3    Lincoln\n",
      "Name: Movie Title, dtype: object\n",
      "74    Gladiator\n",
      "Name: Movie Title, dtype: object\n",
      "129    Juno\n",
      "Name: Movie Title, dtype: object\n",
      "1    Once upon a time in Hollywood\n",
      "Name: Movie Title, dtype: object\n",
      "110    Inglourious Basterds\n",
      "Name: Movie Title, dtype: object\n",
      "79    Requiem for a Dream\n",
      "Name: Movie Title, dtype: object\n",
      "15    Tangerine\n",
      "Name: Movie Title, dtype: object\n",
      "47    Holy Motors\n",
      "Name: Movie Title, dtype: object\n",
      "8    Elena\n",
      "Name: Movie Title, dtype: object\n",
      "22    Spring Breakers\n",
      "Name: Movie Title, dtype: object\n",
      "54    Pan's Labyrinth\n",
      "Name: Movie Title, dtype: object\n",
      "89    Elf\n",
      "Name: Movie Title, dtype: object\n",
      "21    Zero Dark Thirty\n",
      "Name: Movie Title, dtype: object\n",
      "38    Parasite\n",
      "Name: Movie Title, dtype: object\n",
      "24    Uncle Boonmee Who Can Recall His Past Lives\n",
      "Name: Movie Title, dtype: object\n",
      "125    The Dark Knight\n",
      "Name: Movie Title, dtype: object\n",
      "51    25th Hour\n",
      "Name: Movie Title, dtype: object\n",
      "62    no country for old men\n",
      "Name: Movie Title, dtype: object\n",
      "64    minority report\n",
      "Name: Movie Title, dtype: object\n",
      "37    A Separation\n",
      "Name: Movie Title, dtype: object\n",
      "11    First Reformed\n",
      "Name: Movie Title, dtype: object\n",
      "94    In Bruges\n",
      "Name: Movie Title, dtype: object\n",
      "114    School of Rock\n",
      "Name: Movie Title, dtype: object\n",
      "119    Star Wars: Episode 4\n",
      "Name: Movie Title, dtype: object\n",
      "72    Moulin Rouge\n",
      "Name: Movie Title, dtype: object\n",
      "18    No\n",
      "Name: Movie Title, dtype: object\n",
      "82    Bridget Jones's Diary\n",
      "Name: Movie Title, dtype: object\n",
      "120    Memento\n",
      "Name: Movie Title, dtype: object\n",
      "124    Iron Man\n",
      "Name: Movie Title, dtype: object\n",
      "93    Walk the Line\n",
      "Name: Movie Title, dtype: object\n",
      "123    Spider-Man 2\n",
      "Name: Movie Title, dtype: object\n",
      "90    Mulholland Drive\n",
      "Name: Movie Title, dtype: object\n",
      "109    Brokeback Mountain\n",
      "Name: Movie Title, dtype: object\n",
      "88    Avatar\n",
      "Name: Movie Title, dtype: object\n",
      "68    Stories we tell\n",
      "Name: Movie Title, dtype: object\n",
      "102    Garden State\n",
      "Name: Movie Title, dtype: object\n",
      "12    Zama\n",
      "Name: Movie Title, dtype: object\n",
      "20    The Grand Budapest Hotel\n",
      "Name: Movie Title, dtype: object\n",
      "91    Serenity\n",
      "Name: Movie Title, dtype: object\n",
      "81    Tropic Thunder\n",
      "Name: Movie Title, dtype: object\n",
      "78    Pirates of the Caribbean: The Curse of the Bla...\n",
      "Name: Movie Title, dtype: object\n",
      "106    Donnie Darko\n",
      "Name: Movie Title, dtype: object\n",
      "113    Zodiac\n",
      "Name: Movie Title, dtype: object\n",
      "35    Faces Places\n",
      "Name: Movie Title, dtype: object\n",
      "13    45 Years\n",
      "Name: Movie Title, dtype: object\n",
      "67    Son of Saul\n",
      "Name: Movie Title, dtype: object\n",
      "121    The Bourne Ultimatum\n",
      "Name: Movie Title, dtype: object\n",
      "40    Carol\n",
      "Name: Movie Title, dtype: object\n",
      "130    WALL-E\n",
      "Name: Movie Title, dtype: object\n",
      "52    The Hurt Locker\n",
      "Name: Movie Title, dtype: object\n",
      "29    Burning\n",
      "Name: Movie Title, dtype: object\n",
      "134    Up\n",
      "Name: Movie Title, dtype: object\n"
     ]
    }
   ],
   "source": [
    "for i in list_items:\n",
    "    print(movies.loc[movies[\"Movie ID\"] == i, \"Movie Title\"])\n",
    "\n"
   ]
  }
 ],
 "metadata": {
  "kernelspec": {
   "display_name": "Python 3",
   "language": "python",
   "name": "python3"
  },
  "language_info": {
   "codemirror_mode": {
    "name": "ipython",
    "version": 3
   },
   "file_extension": ".py",
   "mimetype": "text/x-python",
   "name": "python",
   "nbconvert_exporter": "python",
   "pygments_lexer": "ipython3",
   "version": "3.7.4"
  },
  "toc": {
   "base_numbering": 1,
   "nav_menu": {},
   "number_sections": true,
   "sideBar": true,
   "skip_h1_title": false,
   "title_cell": "Table of Contents",
   "title_sidebar": "Contents",
   "toc_cell": false,
   "toc_position": {},
   "toc_section_display": true,
   "toc_window_display": false
  }
 },
 "nbformat": 4,
 "nbformat_minor": 2
}
