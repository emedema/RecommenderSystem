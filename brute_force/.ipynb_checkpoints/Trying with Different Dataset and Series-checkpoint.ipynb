{
 "cells": [
  {
   "cell_type": "code",
   "execution_count": 2,
   "metadata": {
    "ExecuteTime": {
     "end_time": "2020-04-08T06:43:00.401116Z",
     "start_time": "2020-04-08T06:42:57.544724Z"
    }
   },
   "outputs": [],
   "source": [
    "import pandas as pd\n",
    "import numpy as np"
   ]
  },
  {
   "cell_type": "code",
   "execution_count": 3,
   "metadata": {
    "ExecuteTime": {
     "end_time": "2020-04-08T06:43:00.525437Z",
     "start_time": "2020-04-08T06:43:00.406861Z"
    }
   },
   "outputs": [
    {
     "ename": "FileNotFoundError",
     "evalue": "[Errno 2] File b'movies.csv' does not exist: b'movies.csv'",
     "output_type": "error",
     "traceback": [
      "\u001b[0;31m---------------------------------------------------------------------------\u001b[0m",
      "\u001b[0;31mFileNotFoundError\u001b[0m                         Traceback (most recent call last)",
      "\u001b[0;32m<ipython-input-3-57dbd1532436>\u001b[0m in \u001b[0;36m<module>\u001b[0;34m\u001b[0m\n\u001b[0;32m----> 1\u001b[0;31m \u001b[0mmovies\u001b[0m \u001b[0;34m=\u001b[0m \u001b[0mpd\u001b[0m\u001b[0;34m.\u001b[0m\u001b[0mread_csv\u001b[0m\u001b[0;34m(\u001b[0m\u001b[0;34m'movies.csv'\u001b[0m\u001b[0;34m)\u001b[0m\u001b[0;34m\u001b[0m\u001b[0;34m\u001b[0m\u001b[0m\n\u001b[0m\u001b[1;32m      2\u001b[0m \u001b[0mprint\u001b[0m\u001b[0;34m(\u001b[0m\u001b[0mmovies\u001b[0m\u001b[0;34m.\u001b[0m\u001b[0mhead\u001b[0m\u001b[0;34m(\u001b[0m\u001b[0;36m3\u001b[0m\u001b[0;34m)\u001b[0m\u001b[0;34m)\u001b[0m\u001b[0;34m\u001b[0m\u001b[0;34m\u001b[0m\u001b[0m\n",
      "\u001b[0;32m/opt/anaconda3/lib/python3.7/site-packages/pandas/io/parsers.py\u001b[0m in \u001b[0;36mparser_f\u001b[0;34m(filepath_or_buffer, sep, delimiter, header, names, index_col, usecols, squeeze, prefix, mangle_dupe_cols, dtype, engine, converters, true_values, false_values, skipinitialspace, skiprows, skipfooter, nrows, na_values, keep_default_na, na_filter, verbose, skip_blank_lines, parse_dates, infer_datetime_format, keep_date_col, date_parser, dayfirst, cache_dates, iterator, chunksize, compression, thousands, decimal, lineterminator, quotechar, quoting, doublequote, escapechar, comment, encoding, dialect, error_bad_lines, warn_bad_lines, delim_whitespace, low_memory, memory_map, float_precision)\u001b[0m\n\u001b[1;32m    683\u001b[0m         )\n\u001b[1;32m    684\u001b[0m \u001b[0;34m\u001b[0m\u001b[0m\n\u001b[0;32m--> 685\u001b[0;31m         \u001b[0;32mreturn\u001b[0m \u001b[0m_read\u001b[0m\u001b[0;34m(\u001b[0m\u001b[0mfilepath_or_buffer\u001b[0m\u001b[0;34m,\u001b[0m \u001b[0mkwds\u001b[0m\u001b[0;34m)\u001b[0m\u001b[0;34m\u001b[0m\u001b[0;34m\u001b[0m\u001b[0m\n\u001b[0m\u001b[1;32m    686\u001b[0m \u001b[0;34m\u001b[0m\u001b[0m\n\u001b[1;32m    687\u001b[0m     \u001b[0mparser_f\u001b[0m\u001b[0;34m.\u001b[0m\u001b[0m__name__\u001b[0m \u001b[0;34m=\u001b[0m \u001b[0mname\u001b[0m\u001b[0;34m\u001b[0m\u001b[0;34m\u001b[0m\u001b[0m\n",
      "\u001b[0;32m/opt/anaconda3/lib/python3.7/site-packages/pandas/io/parsers.py\u001b[0m in \u001b[0;36m_read\u001b[0;34m(filepath_or_buffer, kwds)\u001b[0m\n\u001b[1;32m    455\u001b[0m \u001b[0;34m\u001b[0m\u001b[0m\n\u001b[1;32m    456\u001b[0m     \u001b[0;31m# Create the parser.\u001b[0m\u001b[0;34m\u001b[0m\u001b[0;34m\u001b[0m\u001b[0;34m\u001b[0m\u001b[0m\n\u001b[0;32m--> 457\u001b[0;31m     \u001b[0mparser\u001b[0m \u001b[0;34m=\u001b[0m \u001b[0mTextFileReader\u001b[0m\u001b[0;34m(\u001b[0m\u001b[0mfp_or_buf\u001b[0m\u001b[0;34m,\u001b[0m \u001b[0;34m**\u001b[0m\u001b[0mkwds\u001b[0m\u001b[0;34m)\u001b[0m\u001b[0;34m\u001b[0m\u001b[0;34m\u001b[0m\u001b[0m\n\u001b[0m\u001b[1;32m    458\u001b[0m \u001b[0;34m\u001b[0m\u001b[0m\n\u001b[1;32m    459\u001b[0m     \u001b[0;32mif\u001b[0m \u001b[0mchunksize\u001b[0m \u001b[0;32mor\u001b[0m \u001b[0miterator\u001b[0m\u001b[0;34m:\u001b[0m\u001b[0;34m\u001b[0m\u001b[0;34m\u001b[0m\u001b[0m\n",
      "\u001b[0;32m/opt/anaconda3/lib/python3.7/site-packages/pandas/io/parsers.py\u001b[0m in \u001b[0;36m__init__\u001b[0;34m(self, f, engine, **kwds)\u001b[0m\n\u001b[1;32m    893\u001b[0m             \u001b[0mself\u001b[0m\u001b[0;34m.\u001b[0m\u001b[0moptions\u001b[0m\u001b[0;34m[\u001b[0m\u001b[0;34m\"has_index_names\"\u001b[0m\u001b[0;34m]\u001b[0m \u001b[0;34m=\u001b[0m \u001b[0mkwds\u001b[0m\u001b[0;34m[\u001b[0m\u001b[0;34m\"has_index_names\"\u001b[0m\u001b[0;34m]\u001b[0m\u001b[0;34m\u001b[0m\u001b[0;34m\u001b[0m\u001b[0m\n\u001b[1;32m    894\u001b[0m \u001b[0;34m\u001b[0m\u001b[0m\n\u001b[0;32m--> 895\u001b[0;31m         \u001b[0mself\u001b[0m\u001b[0;34m.\u001b[0m\u001b[0m_make_engine\u001b[0m\u001b[0;34m(\u001b[0m\u001b[0mself\u001b[0m\u001b[0;34m.\u001b[0m\u001b[0mengine\u001b[0m\u001b[0;34m)\u001b[0m\u001b[0;34m\u001b[0m\u001b[0;34m\u001b[0m\u001b[0m\n\u001b[0m\u001b[1;32m    896\u001b[0m \u001b[0;34m\u001b[0m\u001b[0m\n\u001b[1;32m    897\u001b[0m     \u001b[0;32mdef\u001b[0m \u001b[0mclose\u001b[0m\u001b[0;34m(\u001b[0m\u001b[0mself\u001b[0m\u001b[0;34m)\u001b[0m\u001b[0;34m:\u001b[0m\u001b[0;34m\u001b[0m\u001b[0;34m\u001b[0m\u001b[0m\n",
      "\u001b[0;32m/opt/anaconda3/lib/python3.7/site-packages/pandas/io/parsers.py\u001b[0m in \u001b[0;36m_make_engine\u001b[0;34m(self, engine)\u001b[0m\n\u001b[1;32m   1133\u001b[0m     \u001b[0;32mdef\u001b[0m \u001b[0m_make_engine\u001b[0m\u001b[0;34m(\u001b[0m\u001b[0mself\u001b[0m\u001b[0;34m,\u001b[0m \u001b[0mengine\u001b[0m\u001b[0;34m=\u001b[0m\u001b[0;34m\"c\"\u001b[0m\u001b[0;34m)\u001b[0m\u001b[0;34m:\u001b[0m\u001b[0;34m\u001b[0m\u001b[0;34m\u001b[0m\u001b[0m\n\u001b[1;32m   1134\u001b[0m         \u001b[0;32mif\u001b[0m \u001b[0mengine\u001b[0m \u001b[0;34m==\u001b[0m \u001b[0;34m\"c\"\u001b[0m\u001b[0;34m:\u001b[0m\u001b[0;34m\u001b[0m\u001b[0;34m\u001b[0m\u001b[0m\n\u001b[0;32m-> 1135\u001b[0;31m             \u001b[0mself\u001b[0m\u001b[0;34m.\u001b[0m\u001b[0m_engine\u001b[0m \u001b[0;34m=\u001b[0m \u001b[0mCParserWrapper\u001b[0m\u001b[0;34m(\u001b[0m\u001b[0mself\u001b[0m\u001b[0;34m.\u001b[0m\u001b[0mf\u001b[0m\u001b[0;34m,\u001b[0m \u001b[0;34m**\u001b[0m\u001b[0mself\u001b[0m\u001b[0;34m.\u001b[0m\u001b[0moptions\u001b[0m\u001b[0;34m)\u001b[0m\u001b[0;34m\u001b[0m\u001b[0;34m\u001b[0m\u001b[0m\n\u001b[0m\u001b[1;32m   1136\u001b[0m         \u001b[0;32melse\u001b[0m\u001b[0;34m:\u001b[0m\u001b[0;34m\u001b[0m\u001b[0;34m\u001b[0m\u001b[0m\n\u001b[1;32m   1137\u001b[0m             \u001b[0;32mif\u001b[0m \u001b[0mengine\u001b[0m \u001b[0;34m==\u001b[0m \u001b[0;34m\"python\"\u001b[0m\u001b[0;34m:\u001b[0m\u001b[0;34m\u001b[0m\u001b[0;34m\u001b[0m\u001b[0m\n",
      "\u001b[0;32m/opt/anaconda3/lib/python3.7/site-packages/pandas/io/parsers.py\u001b[0m in \u001b[0;36m__init__\u001b[0;34m(self, src, **kwds)\u001b[0m\n\u001b[1;32m   1915\u001b[0m         \u001b[0mkwds\u001b[0m\u001b[0;34m[\u001b[0m\u001b[0;34m\"usecols\"\u001b[0m\u001b[0;34m]\u001b[0m \u001b[0;34m=\u001b[0m \u001b[0mself\u001b[0m\u001b[0;34m.\u001b[0m\u001b[0musecols\u001b[0m\u001b[0;34m\u001b[0m\u001b[0;34m\u001b[0m\u001b[0m\n\u001b[1;32m   1916\u001b[0m \u001b[0;34m\u001b[0m\u001b[0m\n\u001b[0;32m-> 1917\u001b[0;31m         \u001b[0mself\u001b[0m\u001b[0;34m.\u001b[0m\u001b[0m_reader\u001b[0m \u001b[0;34m=\u001b[0m \u001b[0mparsers\u001b[0m\u001b[0;34m.\u001b[0m\u001b[0mTextReader\u001b[0m\u001b[0;34m(\u001b[0m\u001b[0msrc\u001b[0m\u001b[0;34m,\u001b[0m \u001b[0;34m**\u001b[0m\u001b[0mkwds\u001b[0m\u001b[0;34m)\u001b[0m\u001b[0;34m\u001b[0m\u001b[0;34m\u001b[0m\u001b[0m\n\u001b[0m\u001b[1;32m   1918\u001b[0m         \u001b[0mself\u001b[0m\u001b[0;34m.\u001b[0m\u001b[0munnamed_cols\u001b[0m \u001b[0;34m=\u001b[0m \u001b[0mself\u001b[0m\u001b[0;34m.\u001b[0m\u001b[0m_reader\u001b[0m\u001b[0;34m.\u001b[0m\u001b[0munnamed_cols\u001b[0m\u001b[0;34m\u001b[0m\u001b[0;34m\u001b[0m\u001b[0m\n\u001b[1;32m   1919\u001b[0m \u001b[0;34m\u001b[0m\u001b[0m\n",
      "\u001b[0;32mpandas/_libs/parsers.pyx\u001b[0m in \u001b[0;36mpandas._libs.parsers.TextReader.__cinit__\u001b[0;34m()\u001b[0m\n",
      "\u001b[0;32mpandas/_libs/parsers.pyx\u001b[0m in \u001b[0;36mpandas._libs.parsers.TextReader._setup_parser_source\u001b[0;34m()\u001b[0m\n",
      "\u001b[0;31mFileNotFoundError\u001b[0m: [Errno 2] File b'movies.csv' does not exist: b'movies.csv'"
     ]
    }
   ],
   "source": [
    "movies = pd.read_csv('movies.csv')\n",
    "print(movies.head(3))"
   ]
  },
  {
   "cell_type": "code",
   "execution_count": 5,
   "metadata": {
    "ExecuteTime": {
     "end_time": "2020-04-08T06:43:25.088562Z",
     "start_time": "2020-04-08T06:43:25.063684Z"
    }
   },
   "outputs": [
    {
     "name": "stdout",
     "output_type": "stream",
     "text": [
      "         Movie 1  Movie 2  Movie 3  Movie 4  Movie 5  Movie 6  Movie 7  \\\n",
      "User ID                                                                  \n",
      "6925          12       95        3      115      120       73        5   \n",
      "8297          91      119       10       55      114       73       63   \n",
      "5419         100       40      123       33        3       42      132   \n",
      "\n",
      "         Movie 8  Movie 9  Movie 10  \n",
      "User ID                              \n",
      "6925          19       83       126  \n",
      "8297          81       55        36  \n",
      "5419         119       10        34  \n"
     ]
    }
   ],
   "source": [
    "df = pd.read_csv('users.csv', index_col=\"User ID\")\n",
    "print(df.head(3))"
   ]
  },
  {
   "cell_type": "raw",
   "metadata": {},
   "source": [
    "Since the dataframe uses the user id as a key, it acts more similarly to a dictionary of lists, where each userid has a vector of ratings for each movie"
   ]
  },
  {
   "cell_type": "markdown",
   "metadata": {},
   "source": [
    "Okay so as you can see, in movies we have the movie title and the movie id. In the users csv we have a list of users and their top 10 favourite movies. Through this we can use collaborative filtering to recommend a movie to a given user, based on their similarity to other users top 10 lists!"
   ]
  },
  {
   "cell_type": "code",
   "execution_count": 1,
   "metadata": {
    "ExecuteTime": {
     "end_time": "2020-04-08T06:47:51.342645Z",
     "start_time": "2020-04-08T06:47:51.333943Z"
    }
   },
   "outputs": [],
   "source": [
    "#to figure out similarity we will be counting inversions via this method:\n",
    "def compareInv(A,B):\n",
    "    numInv = 0\n",
    "    for i in range(0, len(A)):\n",
    "        for j in range(0, len(A)):\n",
    "            if A[i] != B[j] and i != j:\n",
    "                numInv = numInv + 1\n",
    "    return numInv"
   ]
  },
  {
   "cell_type": "code",
   "execution_count": 12,
   "metadata": {
    "ExecuteTime": {
     "end_time": "2020-04-08T06:50:57.684151Z",
     "start_time": "2020-04-08T06:50:57.458062Z"
    }
   },
   "outputs": [
    {
     "name": "stdout",
     "output_type": "stream",
     "text": [
      "[12, 95, 3, 115, 120, 73, 5, 19, 83, 126]\n"
     ]
    }
   ],
   "source": [
    "#let's take our first user as the given user\n",
    "#Now lets calculate their similarity to the other users in our data\n",
    "simArray = pd.DataFrame(columns = [\"Sim\", \"User\"])\n",
    "user_array = []\n",
    "user_array.append(df['Movie 1'][6925])\n",
    "user_array.append(df['Movie 2'][6925])\n",
    "user_array.append(df['Movie 3'][6925])\n",
    "user_array.append(df['Movie 4'][6925])\n",
    "user_array.append(df['Movie 5'][6925])\n",
    "user_array.append(df['Movie 6'][6925])\n",
    "user_array.append(df['Movie 7'][6925])\n",
    "user_array.append(df['Movie 8'][6925])\n",
    "user_array.append(df['Movie 9'][6925])\n",
    "user_array.append(df['Movie 10'][6925])\n",
    "print(user_array)\n",
    "\n",
    "simSeries = pd.Series(0, index=df.index)\n",
    "for i in df.index: \n",
    "    if(i != 0):\n",
    "        a = []\n",
    "        sim = 0\n",
    "        a.append(df['Movie 1'][i])\n",
    "        a.append(df['Movie 2'][i])\n",
    "        a.append(df['Movie 3'][i])\n",
    "        a.append(df['Movie 4'][i])\n",
    "        a.append(df['Movie 5'][i])\n",
    "        a.append(df['Movie 6'][i])\n",
    "        a.append(df['Movie 7'][i])\n",
    "        a.append(df['Movie 8'][i])\n",
    "        a.append(df['Movie 9'][i])\n",
    "        a.append(df['Movie 10'][i])\n",
    "        sim = compareInv(user_array, a)\n",
    "        simArray = simArray.append({\"Sim\":sim, \"User\":i}, ignore_index = True)\n",
    "        simSeries.loc[i] = sim\n"
   ]
  },
  {
   "cell_type": "code",
   "execution_count": 13,
   "metadata": {
    "ExecuteTime": {
     "end_time": "2020-04-08T06:50:59.263244Z",
     "start_time": "2020-04-08T06:50:59.254183Z"
    }
   },
   "outputs": [
    {
     "name": "stdout",
     "output_type": "stream",
     "text": [
      "   Sim  User\n",
      "0   17  6925\n",
      "1   23  8297\n",
      "2   19  5419\n",
      "3   16  3115\n",
      "4   22  4913\n",
      "5   14  8116\n",
      "6   20  2784\n",
      "7   19  3084\n",
      "8    6  7084\n",
      "9   24  2812\n",
      "10  24   991\n",
      "11  22  9723\n",
      "12  20  6946\n",
      "13  20  1001\n",
      "14  23  1515\n",
      "15  14  2186\n",
      "16  25  7140\n",
      "17  19  9422\n",
      "18  20   150\n"
     ]
    }
   ],
   "source": [
    "print(simArray)"
   ]
  },
  {
   "cell_type": "code",
   "execution_count": 15,
   "metadata": {
    "ExecuteTime": {
     "end_time": "2020-04-08T06:53:44.271454Z",
     "start_time": "2020-04-08T06:53:44.259815Z"
    }
   },
   "outputs": [
    {
     "data": {
      "text/plain": [
       "User ID\n",
       "6925    17\n",
       "8297    23\n",
       "5419    19\n",
       "3115    16\n",
       "4913    22\n",
       "8116    14\n",
       "2784    20\n",
       "3084    19\n",
       "7084     6\n",
       "2812    24\n",
       "991     24\n",
       "9723    22\n",
       "6946    20\n",
       "1001    20\n",
       "1515    23\n",
       "2186    14\n",
       "7140    25\n",
       "9422    19\n",
       "150     20\n",
       "dtype: int64"
      ]
     },
     "execution_count": 15,
     "metadata": {},
     "output_type": "execute_result"
    }
   ],
   "source": [
    "# user id acts as a hashtable for similarity\n",
    "simSeries"
   ]
  },
  {
   "cell_type": "code",
   "execution_count": 16,
   "metadata": {
    "ExecuteTime": {
     "end_time": "2020-04-08T06:54:33.073240Z",
     "start_time": "2020-04-08T06:54:33.056962Z"
    }
   },
   "outputs": [
    {
     "name": "stdout",
     "output_type": "stream",
     "text": [
      "   Sim  User\n",
      "8    6  7084\n",
      "15  14  2186\n",
      "5   14  8116\n",
      "3   16  3115\n",
      "0   17  6925\n",
      "2   19  5419\n",
      "7   19  3084\n",
      "17  19  9422\n",
      "13  20  1001\n",
      "12  20  6946\n",
      "18  20   150\n",
      "6   20  2784\n",
      "11  22  9723\n",
      "4   22  4913\n",
      "14  23  1515\n",
      "1   23  8297\n",
      "10  24   991\n",
      "9   24  2812\n",
      "16  25  7140\n"
     ]
    }
   ],
   "source": [
    "#now we have the similarity of every user except the given user\n",
    "#Lets sort by the highest similarity\n",
    "#we want to sort ascending as the higher the sim number the more differences there are in their ranking\n",
    "#therefore they are less similar.\n",
    "S = simArray.sort_values(by='Sim', ascending=True)\n",
    "print(S)"
   ]
  },
  {
   "cell_type": "code",
   "execution_count": 26,
   "metadata": {
    "ExecuteTime": {
     "end_time": "2020-04-08T07:04:47.061613Z",
     "start_time": "2020-04-08T07:04:47.051217Z"
    }
   },
   "outputs": [
    {
     "name": "stdout",
     "output_type": "stream",
     "text": [
      "User ID\n",
      "7084     6\n",
      "8116    14\n",
      "2186    14\n",
      "3115    16\n",
      "6925    17\n",
      "5419    19\n",
      "3084    19\n",
      "9422    19\n",
      "1001    20\n",
      "6946    20\n",
      "2784    20\n",
      "150     20\n",
      "9723    22\n",
      "4913    22\n",
      "1515    23\n",
      "8297    23\n",
      "991     24\n",
      "2812    24\n",
      "7140    25\n",
      "dtype: int64\n"
     ]
    }
   ],
   "source": [
    "# More similar = less inversions so lower similarity\n",
    "simSeries = simSeries.sort_values(ascending=True)\n",
    "print(simSeries)"
   ]
  },
  {
   "cell_type": "code",
   "execution_count": 98,
   "metadata": {
    "code_folding": [],
    "collapsed": true
   },
   "outputs": [
    {
     "name": "stdout",
     "output_type": "stream",
     "text": [
      "   Sim  User\n",
      "7    6  7084\n",
      "4   14  8116\n",
      "14  14  2186\n",
      "2   16  3115\n",
      "1   19  5419\n",
      "6   19  3084\n",
      "16  19  9422\n",
      "17  20   150\n",
      "5   20  2784\n",
      "11  20  6946\n",
      "12  20  1001\n",
      "3   22  4913\n",
      "10  22  9723\n",
      "0   23  8297\n",
      "13  23  1515\n",
      "9   24   991\n",
      "8   24  2812\n",
      "15  25  7140\n",
      "[]\n"
     ]
    }
   ],
   "source": [
    "#according to this user 7140 has the highest similarity index\n",
    "#but to make sure we have enough data we will take the first w of the highest users\n",
    "list_items = []\n",
    "for i in S.index:\n",
    "    user = S[\"User\"][i]\n",
    "    user_items = df.loc[df['User ID'] == user]\n",
    "    items = user_items.loc[:, user_items.columns != 'User ID']\n",
    "\n",
    "print(list_items)"
   ]
  },
  {
   "cell_type": "code",
   "execution_count": null,
   "metadata": {},
   "outputs": [],
   "source": []
  },
  {
   "cell_type": "code",
   "execution_count": 42,
   "metadata": {
    "ExecuteTime": {
     "end_time": "2020-04-08T07:17:00.694919Z",
     "start_time": "2020-04-08T07:17:00.674834Z"
    }
   },
   "outputs": [
    {
     "name": "stdout",
     "output_type": "stream",
     "text": [
      "[121, 23, 119, 51, 38, 136, 125, 94, 124, 13, 21, 100, 45, 34, 92, 76, 118, 77, 106, 5, 58, 109, 98, 86, 96, 82, 79, 66, 35, 107, 123, 89, 80, 12, 95, 3, 115, 120, 73, 19, 83, 126, 40, 33, 42, 132, 10, 91, 110, 6, 8, 127, 48, 44, 14, 68, 60, 55, 90, 122, 62, 41, 31, 7, 32, 22, 39, 25, 64, 54, 99, 28, 81, 69, 103, 67, 131, 53, 30, 135, 117, 61, 57, 4, 75, 130, 2, 111, 16, 9, 114, 63, 36, 52, 65, 27, 26, 47, 85, 108, 37]\n"
     ]
    }
   ],
   "source": [
    "#according to this user 7084 has the highest similarity index\n",
    "# because it has the lowest number of inversions\n",
    "#but to make sure we have enough data we will take the first w of the highest users\n",
    "\n",
    "# save as set -> dont check for duplicates\n",
    "list_items = []\n",
    "for user_id in simSeries.index:\n",
    "    # get the items the user has reviewed\n",
    "    user_items = df.loc[user_id]\n",
    "    for item in user_items:\n",
    "        if item not in list_items:\n",
    "            list_items.append(item)\n",
    "\n",
    "print(list_items)"
   ]
  },
  {
   "cell_type": "code",
   "execution_count": 39,
   "metadata": {
    "ExecuteTime": {
     "end_time": "2020-04-08T07:14:26.404751Z",
     "start_time": "2020-04-08T07:14:26.381476Z"
    }
   },
   "outputs": [],
   "source": [
    "matrix [n users X m items]\n"
   ]
  },
  {
   "cell_type": "code",
   "execution_count": 40,
   "metadata": {
    "ExecuteTime": {
     "end_time": "2020-04-08T07:14:28.802607Z",
     "start_time": "2020-04-08T07:14:28.794534Z"
    }
   },
   "outputs": [
    {
     "data": {
      "text/plain": [
       "Movie 1     121\n",
       "Movie 2      23\n",
       "Movie 3     119\n",
       "Movie 4      51\n",
       "Movie 5      38\n",
       "Movie 6     136\n",
       "Movie 7     125\n",
       "Movie 8      94\n",
       "Movie 9     125\n",
       "Movie 10    124\n",
       "Name: 7084, dtype: int64"
      ]
     },
     "execution_count": 40,
     "metadata": {},
     "output_type": "execute_result"
    }
   ],
   "source": [
    "user_item_series = df.loc[7084]\n",
    "user_item_series\n",
    "\n",
    "# "
   ]
  },
  {
   "cell_type": "code",
   "execution_count": null,
   "metadata": {},
   "outputs": [],
   "source": []
  }
 ],
 "metadata": {
  "kernelspec": {
   "display_name": "Python 3",
   "language": "python",
   "name": "python3"
  },
  "language_info": {
   "codemirror_mode": {
    "name": "ipython",
    "version": 3
   },
   "file_extension": ".py",
   "mimetype": "text/x-python",
   "name": "python",
   "nbconvert_exporter": "python",
   "pygments_lexer": "ipython3",
   "version": "3.7.4"
  },
  "toc": {
   "base_numbering": 1,
   "nav_menu": {},
   "number_sections": true,
   "sideBar": true,
   "skip_h1_title": false,
   "title_cell": "Table of Contents",
   "title_sidebar": "Contents",
   "toc_cell": false,
   "toc_position": {},
   "toc_section_display": true,
   "toc_window_display": false
  }
 },
 "nbformat": 4,
 "nbformat_minor": 2
}
