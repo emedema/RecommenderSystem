{
 "cells": [
  {
   "cell_type": "code",
   "execution_count": 40,
   "metadata": {},
   "outputs": [
    {
     "name": "stdout",
     "output_type": "stream",
     "text": [
      "[2, 6]\n",
      "[9, 10]\n",
      "[6, 2]\n",
      "[9, 10]\n",
      "[2]\n",
      "[6]\n",
      "[6]\n",
      "[2]\n",
      "[2]\n",
      "[6]\n"
     ]
    },
    {
     "ename": "TypeError",
     "evalue": "cannot unpack non-iterable NoneType object",
     "output_type": "error",
     "traceback": [
      "\u001b[0;31m---------------------------------------------------------------------------\u001b[0m",
      "\u001b[0;31mTypeError\u001b[0m                                 Traceback (most recent call last)",
      "\u001b[0;32m<ipython-input-40-298e30fcf742>\u001b[0m in \u001b[0;36m<module>\u001b[0;34m\u001b[0m\n\u001b[1;32m      1\u001b[0m \u001b[0mA\u001b[0m \u001b[0;34m=\u001b[0m \u001b[0;34m[\u001b[0m\u001b[0;36m2\u001b[0m\u001b[0;34m,\u001b[0m\u001b[0;36m6\u001b[0m\u001b[0;34m,\u001b[0m\u001b[0;36m9\u001b[0m\u001b[0;34m,\u001b[0m\u001b[0;36m10\u001b[0m\u001b[0;34m]\u001b[0m\u001b[0;34m\u001b[0m\u001b[0;34m\u001b[0m\u001b[0m\n\u001b[1;32m      2\u001b[0m \u001b[0mB\u001b[0m \u001b[0;34m=\u001b[0m \u001b[0;34m[\u001b[0m\u001b[0;36m6\u001b[0m\u001b[0;34m,\u001b[0m\u001b[0;36m2\u001b[0m\u001b[0;34m,\u001b[0m\u001b[0;36m9\u001b[0m\u001b[0;34m,\u001b[0m\u001b[0;36m10\u001b[0m\u001b[0;34m]\u001b[0m\u001b[0;34m\u001b[0m\u001b[0;34m\u001b[0m\u001b[0m\n\u001b[0;32m----> 3\u001b[0;31m \u001b[0mprint\u001b[0m\u001b[0;34m(\u001b[0m\u001b[0mfind\u001b[0m\u001b[0;34m(\u001b[0m\u001b[0mA\u001b[0m\u001b[0;34m,\u001b[0m\u001b[0mB\u001b[0m\u001b[0;34m)\u001b[0m\u001b[0;34m)\u001b[0m\u001b[0;34m\u001b[0m\u001b[0;34m\u001b[0m\u001b[0m\n\u001b[0m",
      "\u001b[0;32m<ipython-input-39-e9d44d6f623d>\u001b[0m in \u001b[0;36mfind\u001b[0;34m(A, B)\u001b[0m\n\u001b[1;32m     11\u001b[0m     \u001b[0mB2\u001b[0m \u001b[0;34m=\u001b[0m \u001b[0mB\u001b[0m\u001b[0;34m[\u001b[0m\u001b[0mmid\u001b[0m\u001b[0;34m:\u001b[0m\u001b[0;34m]\u001b[0m\u001b[0;34m\u001b[0m\u001b[0;34m\u001b[0m\u001b[0m\n\u001b[1;32m     12\u001b[0m     \u001b[0mprint\u001b[0m\u001b[0;34m(\u001b[0m \u001b[0mB2\u001b[0m\u001b[0;34m)\u001b[0m\u001b[0;34m\u001b[0m\u001b[0;34m\u001b[0m\u001b[0m\n\u001b[0;32m---> 13\u001b[0;31m     \u001b[0mfirstA\u001b[0m\u001b[0;34m,\u001b[0m \u001b[0mfirstB\u001b[0m \u001b[0;34m=\u001b[0m \u001b[0mfind\u001b[0m\u001b[0;34m(\u001b[0m\u001b[0mA1\u001b[0m\u001b[0;34m,\u001b[0m \u001b[0mB1\u001b[0m\u001b[0;34m)\u001b[0m\u001b[0;34m\u001b[0m\u001b[0;34m\u001b[0m\u001b[0m\n\u001b[0m\u001b[1;32m     14\u001b[0m     \u001b[0mprint\u001b[0m\u001b[0;34m(\u001b[0m\u001b[0mfirstA\u001b[0m\u001b[0;34m)\u001b[0m\u001b[0;34m\u001b[0m\u001b[0;34m\u001b[0m\u001b[0m\n\u001b[1;32m     15\u001b[0m     \u001b[0mprint\u001b[0m\u001b[0;34m(\u001b[0m\u001b[0mfirstB\u001b[0m\u001b[0;34m)\u001b[0m\u001b[0;34m\u001b[0m\u001b[0;34m\u001b[0m\u001b[0m\n",
      "\u001b[0;31mTypeError\u001b[0m: cannot unpack non-iterable NoneType object"
     ]
    }
   ],
   "source": [
    "A = [2,6,9,10]\n",
    "B = [6,2,9,10]\n",
    "print(find(A,B))"
   ]
  },
  {
   "cell_type": "code",
   "execution_count": 39,
   "metadata": {},
   "outputs": [],
   "source": [
    "def find(A, B):\n",
    "    if len(A) == 1 and len(B) == 1:\n",
    "        return A, B\n",
    "    mid = len(A) //2\n",
    "    A1 = A[:mid]\n",
    "    print( A1)\n",
    "    A2 = A[mid:]\n",
    "    print( A2)\n",
    "    B1 = B[:mid]\n",
    "    print(B1)\n",
    "    B2 = B[mid:]\n",
    "    print(B2)\n",
    "    firstA, firstB = find(A1, B1)\n",
    "    print(firstA)\n",
    "    print(firstB)\n",
    "    secA, secB = find(A2, B2)"
   ]
  },
  {
   "cell_type": "code",
   "execution_count": 36,
   "metadata": {},
   "outputs": [],
   "source": [
    "def find_inv(A, B):\n",
    "\n",
    "    if len(A) <= 1:\n",
    "        return 0\n",
    "    mid = len(A) // 2\n",
    "    A1 = A[:mid]\n",
    "    print( A1)\n",
    "    A2 = A[mid:]\n",
    "    print( A2)\n",
    "    B1 = B[:mid]\n",
    "    print(B1)\n",
    "    B2 = B[mid:]\n",
    "    print( B2)\n",
    "\n",
    "    if len(A1) >= 1 and len(B2) >= 1:\n",
    "        ans = find_inv(A1, B1) + find_inv(A2, B2)\n",
    "    else:\n",
    "        A.sort()\n",
    "        B.sort()\n",
    "        ans = 0\n",
    "    len_A = len(A1)\n",
    "    print(str(len_A) + \"this is the len of A\")\n",
    "    index_A = 0\n",
    "    len_B = len(B2)\n",
    "    index_B = 0\n",
    "\n",
    "    for k in range(len_A + len_B):\n",
    "        print(\"I get here\")\n",
    "        if A1[index_A] <= B2[index_B]:\n",
    "\n",
    "            index_A += 1\n",
    "            if index_A == len_A:\n",
    "                merge(A1, A2, A)\n",
    "                merge(B1, B2, B)\n",
    "\n",
    "                return ans\n",
    "        else:\n",
    "            index_B += 1\n",
    "            ans += 1\n",
    "            print(\"A is greater than B\")\n",
    "            if index_B == len_B:\n",
    "                merge(A1, A2, A)\n",
    "                merge(B1, B2, B)\n",
    "                return ans\n",
    "\n",
    "def merge(A1, A2, dest):\n",
    "    i = 0\n",
    "    j = 0\n",
    "\n",
    "\n",
    "    while i < len(A1) and j < len(A2):\n",
    "        if A1[i] < A2[j]:\n",
    "            dest[i+j] = A1[i]\n",
    "            i += 1\n",
    "        else:\n",
    "            dest[i+j] = A2[j]\n",
    "            j += 1\n",
    "    while i < len(A1):\n",
    "            dest[i+j] = A1[i]\n",
    "            i += 1\n",
    "\n",
    "    while j < len(A2):\n",
    "            dest[i+j] = A2[j]\n",
    "            j += 1\n"
   ]
  }
 ],
 "metadata": {
  "kernelspec": {
   "display_name": "Python 3",
   "language": "python",
   "name": "python3"
  },
  "language_info": {
   "codemirror_mode": {
    "name": "ipython",
    "version": 3
   },
   "file_extension": ".py",
   "mimetype": "text/x-python",
   "name": "python",
   "nbconvert_exporter": "python",
   "pygments_lexer": "ipython3",
   "version": "3.7.4"
  }
 },
 "nbformat": 4,
 "nbformat_minor": 2
}
